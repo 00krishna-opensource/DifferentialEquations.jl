{
 "cells": [
  {
   "cell_type": "markdown",
   "metadata": {},
   "source": [
    "# Solving Equations with Julia-Defined Types\n",
    "\n",
    "One of the nice things about DifferentialEquations.jl is that it is designed with Julia's type system in mind. What this means is, if you have properly defined a Number type, you can use this number type in DifferentialEquations.jl's algorithms! [Note that this is restricted to the native algorithms of DifferentialEquations.jl. The external solvers are not compatible with some number systems. For example, ODE.jl will throw errors unless certain options are set, and ODEInterface will convert the numbers to floats].\n",
    "\n",
    "DifferentialEquations.jl determines the numbers to use in its solvers via the types that are designated by Δt and the initial condition of the problem. It will keep the time values in the same type as Δt, and the solution values in the same type as the initial condition. [Note that adaptive timestepping requires that Δt be compaible with `sqrt` and `^` functions. Thus Δt cannot be Integer or numbers like that if adaptive timestepping is chosen].\n",
    "\n",
    "Let's solve the linear ODE first define an easy way to get ODEProblems for the linear ODE:"
   ]
  },
  {
   "cell_type": "code",
   "execution_count": 1,
   "metadata": {
    "collapsed": false
   },
   "outputs": [],
   "source": [
    "using DifferentialEquations\n",
    "f = (t,u) -> (1.01*u)\n",
    "analytic = (t,u₀) -> u₀*exp(1.01*t)\n",
    "prob_ode_linear = ODEProblem(f,1/2,analytic=analytic);"
   ]
  },
  {
   "cell_type": "markdown",
   "metadata": {},
   "source": [
    "First let's solve it using Float64s. To do so, we just need to set u₀ to a Float64 (which is done by the default) and Δt should be a float as well."
   ]
  },
  {
   "cell_type": "code",
   "execution_count": 2,
   "metadata": {
    "collapsed": false
   },
   "outputs": [
    {
     "name": "stdout",
     "output_type": "stream",
     "text": [
      "DifferentialEquations.ODESolution with 65 timesteps. Analytical solution is known.\n",
      "u: 1.3728005068011597\n",
      "errors: Dict(:l∞=>7.07298e-10,:final=>7.07298e-10,:l2=>3.31617e-10)\n",
      "t: [0.0,0.015625,0.03125,0.046875,0.0625,0.078125,0.09375,0.109375,0.125,0.140625,0.15625,0.171875,0.1875,0.203125,0.21875,0.234375,0.25,0.265625,0.28125,0.296875,0.3125,0.328125,0.34375,0.359375,0.375,0.390625,0.40625,0.421875,0.4375,0.453125,0.46875,0.484375,0.5,0.515625,0.53125,0.546875,0.5625,0.578125,0.59375,0.609375,0.625,0.640625,0.65625,0.671875,0.6875,0.703125,0.71875,0.734375,0.75,0.765625,0.78125,0.796875,0.8125,0.828125,0.84375,0.859375,0.875,0.890625,0.90625,0.921875,0.9375,0.953125,0.96875,0.984375,1.0]\n",
      "timeseries: [0.5,0.507953,0.516033,0.524241,0.53258,0.541051,0.549658,0.558401,0.567283,0.576306,0.585473,0.594786,0.604247,0.613858,0.623623,0.633542,0.64362,0.653857,0.664258,0.674824,0.685558,0.696463,0.707541,0.718795,0.730229,0.741844,0.753644,0.765632,0.777811,0.790183,0.802752,0.815521,0.828493,0.841671,0.855059,0.86866,0.882477,0.896514,0.910775,0.925262,0.93998,0.954931,0.970121,0.985552,1.00123,1.01715,1.03333,1.04977,1.06647,1.08343,1.10067,1.11817,1.13596,1.15403,1.17239,1.19103,1.20998,1.22923,1.24878,1.26864,1.28882,1.30932,1.33015,1.35131,1.3728]\n",
      "timeseries_analytic: [0.5,0.507953,0.516033,0.524241,0.53258,0.541051,0.549658,0.558401,0.567283,0.576306,0.585473,0.594786,0.604247,0.613858,0.623623,0.633542,0.64362,0.653857,0.664258,0.674824,0.685558,0.696463,0.707541,0.718795,0.730229,0.741844,0.753644,0.765632,0.777811,0.790183,0.802752,0.815521,0.828493,0.841671,0.855059,0.86866,0.882477,0.896514,0.910775,0.925262,0.93998,0.954931,0.970121,0.985552,1.00123,1.01715,1.03333,1.04977,1.06647,1.08343,1.10067,1.11817,1.13596,1.15403,1.17239,1.19103,1.20998,1.22923,1.24878,1.26864,1.28882,1.30932,1.33015,1.35131,1.3728]\n",
      "\n"
     ]
    }
   ],
   "source": [
    "prob = prob_ode_linear \n",
    "sol =solve(prob::ODEProblem,[0,1],Δt=1/2^(6),save_timeseries=true,alg=:RK4)\n",
    "println(sol)"
   ]
  },
  {
   "cell_type": "markdown",
   "metadata": {},
   "source": [
    "Notice that both the times and the solutions were saved as Float64. Let's change the time to use rational values:"
   ]
  },
  {
   "cell_type": "code",
   "execution_count": 3,
   "metadata": {
    "collapsed": false
   },
   "outputs": [
    {
     "name": "stdout",
     "output_type": "stream",
     "text": [
      "DifferentialEquations.ODESolution with 65 timesteps. Analytical solution is known.\n",
      "u: 1.3728005068011597\n",
      "errors: Dict(:l∞=>7.07298e-10,:final=>7.07298e-10,:l2=>3.31617e-10)\n",
      "t: Rational{Int64}[0//1,1//64,1//32,3//64,1//16,5//64,3//32,7//64,1//8,9//64,5//32,11//64,3//16,13//64,7//32,15//64,1//4,17//64,9//32,19//64,5//16,21//64,11//32,23//64,3//8,25//64,13//32,27//64,7//16,29//64,15//32,31//64,1//2,33//64,17//32,35//64,9//16,37//64,19//32,39//64,5//8,41//64,21//32,43//64,11//16,45//64,23//32,47//64,3//4,49//64,25//32,51//64,13//16,53//64,27//32,55//64,7//8,57//64,29//32,59//64,15//16,61//64,31//32,63//64,1//1]\n",
      "timeseries: [0.5,0.507953,0.516033,0.524241,0.53258,0.541051,0.549658,0.558401,0.567283,0.576306,0.585473,0.594786,0.604247,0.613858,0.623623,0.633542,0.64362,0.653857,0.664258,0.674824,0.685558,0.696463,0.707541,0.718795,0.730229,0.741844,0.753644,0.765632,0.777811,0.790183,0.802752,0.815521,0.828493,0.841671,0.855059,0.86866,0.882477,0.896514,0.910775,0.925262,0.93998,0.954931,0.970121,0.985552,1.00123,1.01715,1.03333,1.04977,1.06647,1.08343,1.10067,1.11817,1.13596,1.15403,1.17239,1.19103,1.20998,1.22923,1.24878,1.26864,1.28882,1.30932,1.33015,1.35131,1.3728]\n",
      "timeseries_analytic: [0.5,0.507953,0.516033,0.524241,0.53258,0.541051,0.549658,0.558401,0.567283,0.576306,0.585473,0.594786,0.604247,0.613858,0.623623,0.633542,0.64362,0.653857,0.664258,0.674824,0.685558,0.696463,0.707541,0.718795,0.730229,0.741844,0.753644,0.765632,0.777811,0.790183,0.802752,0.815521,0.828493,0.841671,0.855059,0.86866,0.882477,0.896514,0.910775,0.925262,0.93998,0.954931,0.970121,0.985552,1.00123,1.01715,1.03333,1.04977,1.06647,1.08343,1.10067,1.11817,1.13596,1.15403,1.17239,1.19103,1.20998,1.22923,1.24878,1.26864,1.28882,1.30932,1.33015,1.35131,1.3728]\n",
      "\n"
     ]
    }
   ],
   "source": [
    "sol =solve(prob::ODEProblem,[0,1],Δt=1//2^(6),save_timeseries=true,alg=:RK4)\n",
    "println(sol)"
   ]
  },
  {
   "cell_type": "markdown",
   "metadata": {},
   "source": [
    "Now let's do something fun. Let's change the solution to use `Rational{BigInt}` and print out the value at the end of the simulation. To do so, simply change the definition of the initial condition. "
   ]
  },
  {
   "cell_type": "code",
   "execution_count": 4,
   "metadata": {
    "collapsed": false
   },
   "outputs": [
    {
     "name": "stdout",
     "output_type": "stream",
     "text": [
      "4154032919386558883432944248380343483762044089219885824293861963690668280133800624271545564442460641100421478069957127705133139131053171319939289915624722195403241736871340745589519387833493153871994750550507166424767604170338332253959630697516305444248796250106488696552824425774652891031781638156634640665726706553562695794716367646798636566490125595141712720380867485868916531456648814528917577693417533965049279568879801863167212171389128029079788394889712773514836798543384276326561054294342851708282050876790968869065128360584151770000714515194551497614161342119347668187950856166437783338125107242946094385126468080818490755092469614835748767521966870937090173768929887202086899128132689201712566935821453568568851761907310360889009454819233203019261511646422045122043461427963067831419822632761257565485308244276118163333934078610669354885645888806741789229076806586507072844471249752898840782835318816592414922484506856439857852070928805249944302969170900303083044962139908567605824428891872081720287044135359380045755621121//3025955263570019164018502277869853398058543745963126397283707470775892712704232437030043920740033026198847216426264951289188498307633591122471111874163926157374989814610878574225506571713008520940845805558579429855707382314196875257835647882856218717417250856125102284683546912020709544155188247379716859572950811281937944702307676679453365814328593305957854274867553594143460475201489987084725797475032257007739929467758191052369579260681352907875927458926484892315482757871323905647524505025315981027903769053444125491200000000000000000000000000000000000000000000000000000000000000000000000000000000000000000000000000000000000000000000000000000000000000000000000000000000000000000000000000000000000000000000000000000000000000000000000000000000000000000000000000000000000000000000000000000000000000000000000000000000000000000000000000000000000000000000000000000000000000000000000000000000000000000000000000000000000000000000000000000000000000000000000000000000000000000000000000000000000000000000000000000000000000000000000000000000\n"
     ]
    }
   ],
   "source": [
    "const rationalα = 101//100\n",
    "f = (t,u) -> (rationalα*u)\n",
    "analytic = (t,u₀) -> u₀*exp(rationalα*t)\n",
    "prob_ode_bigfloatlinear = ODEProblem(f,BigInt(1)//BigInt(2),analytic=analytic)\n",
    "prob = prob_ode_bigfloatlinear\n",
    "sol =solve(prob::ODEProblem,[0,1],Δt=1//2^(6),save_timeseries=true,alg=:RK4)\n",
    "println(sol[end])"
   ]
  },
  {
   "cell_type": "markdown",
   "metadata": {},
   "source": [
    "That's one huge fraction! What about the analytical solution?"
   ]
  },
  {
   "cell_type": "code",
   "execution_count": 5,
   "metadata": {
    "collapsed": false
   },
   "outputs": [
    {
     "data": {
      "text/plain": [
       "48301123859915//35184372088832"
      ]
     },
     "execution_count": 5,
     "metadata": {},
     "output_type": "execute_result"
    }
   ],
   "source": [
    "sol.timeseries_analytic[end]"
   ]
  },
  {
   "cell_type": "markdown",
   "metadata": {},
   "source": [
    "This is to be expected. Notice that when we defined `analytic`, we used the `exp` function. In Julia, this is defined on `Rational{BigInt}` to spit out a `BigFloat`, and so all of the analytical solution's values change to `BigFloat` to compensate. This shows that DifferentialEquations.jl is using the correct numbers. So can we do more?"
   ]
  },
  {
   "cell_type": "markdown",
   "metadata": {},
   "source": [
    "## Other Compatible Number Types\n",
    "\n",
    "#### ArbFloats\n",
    "\n",
    "Let's test a bunch of other number types. First I'm going to test Jeffrey Sarnoff's ArbFloats. These high precision numbers which are much faster than Bigs for less than 500-800 bits of accuracy. Having already installed Nemo and ArbFloats, I can use them in DifferentialEquations.jl via:"
   ]
  },
  {
   "cell_type": "code",
   "execution_count": 6,
   "metadata": {
    "collapsed": false,
    "scrolled": true
   },
   "outputs": [
    {
     "name": "stdout",
     "output_type": "stream",
     "text": [
      "1.37280050680115964525983\n"
     ]
    }
   ],
   "source": [
    "using ArbFloats\n",
    "const arbalpha = ArbFloat(1.01)\n",
    "f = (t,u) -> (arbalpha*u)\n",
    "analytic = (t,u₀) -> u₀*exp(arbalpha*t)\n",
    "prob_ode_arbfloatlinear = ODEProblem(f,ArbFloat(1)/ArbFloat(2),analytic=analytic)\n",
    "sol =solve(prob_ode_arbfloatlinear::ODEProblem,[0,1],Δt=1//2^(6),save_timeseries=true,alg=:RK4)\n",
    "println(sol[end])"
   ]
  },
  {
   "cell_type": "markdown",
   "metadata": {},
   "source": [
    "Let's double-check that value:"
   ]
  },
  {
   "cell_type": "code",
   "execution_count": 7,
   "metadata": {
    "collapsed": false
   },
   "outputs": [
    {
     "data": {
      "text/plain": [
       "ArbFloats.ArbFloat{116}"
      ]
     },
     "execution_count": 7,
     "metadata": {},
     "output_type": "execute_result"
    }
   ],
   "source": [
    "typeof(sol[end])"
   ]
  },
  {
   "cell_type": "markdown",
   "metadata": {},
   "source": [
    "Bingo! ArbFloats work with DifferentialEquations.jl.\n",
    "\n",
    "#### DecFP.jl\n",
    "\n",
    "Next let's try DecFP. DecFP is a fixed-precision decimals library which is made to give both performance but known decimals of accuracy. Having already installed DecFP with `Pkg.add(\"DecFP\")`, I can run the following:"
   ]
  },
  {
   "cell_type": "code",
   "execution_count": 8,
   "metadata": {
    "collapsed": false
   },
   "outputs": [
    {
     "name": "stdout",
     "output_type": "stream",
     "text": [
      "+1372800506801159645259829745240592E-33\n",
      "DecFP.Dec128\n"
     ]
    }
   ],
   "source": [
    "using DecFP\n",
    "const decalpha = Dec128(1.01) # Set the constant to a Dec128 as well\n",
    "f = (t,u) -> (decalpha*u)\n",
    "analytic = (t,u₀) -> u₀*exp(decalpha*t)\n",
    "prob_ode_decfplinear = ODEProblem(f,Dec128(1)/Dec128(2),analytic=analytic)\n",
    "sol =solve(prob_ode_decfplinear::ODEProblem,[0,1],Δt=1//2^(6),save_timeseries=true,alg=:RK4)\n",
    "println(sol[end]); println(typeof(sol[end]))"
   ]
  },
  {
   "cell_type": "markdown",
   "metadata": {},
   "source": [
    "Bingo! DecFP works with DifferentialEquations.jl\n",
    "\n",
    "## Incompatible Number Systems\n",
    "\n",
    "#### Decimals.jl\n",
    "\n",
    "Install with `Pkg.add(\"Decimals\")`."
   ]
  },
  {
   "cell_type": "code",
   "execution_count": 14,
   "metadata": {
    "collapsed": false
   },
   "outputs": [
    {
     "ename": "LoadError",
     "evalue": "LoadError: TypeError: ODEProblem: in uEltype, expected uEltype<:Number, got Type{Decimals.Decimal}\nwhile loading In[14], in expression starting on line 5",
     "output_type": "error",
     "traceback": [
      "LoadError: TypeError: ODEProblem: in uEltype, expected uEltype<:Number, got Type{Decimals.Decimal}\nwhile loading In[14], in expression starting on line 5",
      "",
      " in #ODEProblem#235(::Function, ::Type{T}, ::Function, ::Array{Decimals.Decimal,1}) at /home/crackauc/.julia/v0.5/DifferentialEquations/src/general/problems.jl:408",
      " in (::Core.#kw#Type)(::Array{Any,1}, ::Type{DifferentialEquations.ODEProblem}, ::Function, ::Array{Decimals.Decimal,1}) at ./<missing>:0",
      " in execute_request(::ZMQ.Socket, ::IJulia.Msg) at /home/crackauc/.julia/v0.5/IJulia/src/execute_request.jl:169",
      " in eventloop(::ZMQ.Socket) at /home/crackauc/.julia/v0.5/IJulia/src/eventloop.jl:8",
      " in (::IJulia.##9#15)() at ./task.jl:360"
     ]
    }
   ],
   "source": [
    "using Decimals\n",
    "const decalpha2 = decimal(1.01) # Set the constant to a Dec128 as well\n",
    "f = (t,u) -> (decalpha2*u)\n",
    "analytic = (t,u₀) -> u₀*exp(decalpha2*t)\n",
    "prob_ode_decimallinear = ODEProblem(f,[decimal(\"1.0\")]./[decimal(\"2.0\")],analytic=analytic)\n",
    "sol =solve(prob_ode_decimallinear::ODEProblem,[0,1],Δt=1/2^(6),save_timeseries=true,alg=:RK4) #Fails\n",
    "println(sol[end]); println(typeof(sol[end]))"
   ]
  },
  {
   "cell_type": "markdown",
   "metadata": {},
   "source": [
    "At the time of writing this, Decimals are not compatible. This is not on DifferentialEquations.jl's end, it's on partly on Decimal's end since it stems from not having an `abs` function (along with many other functions being missing!), and partly because Decimals.Decimal is not a subtype of Number. Thus it's not recommended you use Decimals with DifferentialEquations.jl"
   ]
  },
  {
   "cell_type": "markdown",
   "metadata": {},
   "source": [
    "#### DoubleDouble.jl\n",
    "\n",
    "Install via `Pkg.add(\"DoubleDouble\")`"
   ]
  },
  {
   "cell_type": "code",
   "execution_count": 16,
   "metadata": {
    "collapsed": false
   },
   "outputs": [
    {
     "ename": "LoadError",
     "evalue": "LoadError: MethodError: Cannot `convert` an object of type Rational{Int64} to an object of type DoubleDouble.Double{Float64}\nThis may have arisen from a call to the constructor DoubleDouble.Double{Float64}(...),\nsince type constructors fall back to convert methods.\nwhile loading In[16], in expression starting on line 6",
     "output_type": "error",
     "traceback": [
      "LoadError: MethodError: Cannot `convert` an object of type Rational{Int64} to an object of type DoubleDouble.Double{Float64}\nThis may have arisen from a call to the constructor DoubleDouble.Double{Float64}(...),\nsince type constructors fall back to convert methods.\nwhile loading In[16], in expression starting on line 6",
      "",
      " in #solve#559(::Array{Any,1}, ::Function, ::DifferentialEquations.ODEProblem{DoubleDouble.Double{Float64},DoubleDouble.Double{Float64}}, ::Array{Int64,1}) at /home/crackauc/.julia/v0.5/DifferentialEquations/src/ode/ode_solve.jl:173",
      " in (::DifferentialEquations.#kw##solve)(::Array{Any,1}, ::DifferentialEquations.#solve, ::DifferentialEquations.ODEProblem{DoubleDouble.Double{Float64},DoubleDouble.Double{Float64}}, ::Array{Int64,1}) at ./<missing>:0",
      " in execute_request(::ZMQ.Socket, ::IJulia.Msg) at /home/crackauc/.julia/v0.5/IJulia/src/execute_request.jl:169",
      " in eventloop(::ZMQ.Socket) at /home/crackauc/.julia/v0.5/IJulia/src/eventloop.jl:8",
      " in (::IJulia.##9#15)() at ./task.jl:360"
     ]
    }
   ],
   "source": [
    "using DoubleDouble\n",
    "const doublealpha = Double(1.01) # Set the constant to a Dec128 as well\n",
    "f = (t,u) -> (doublealpha*u)\n",
    "analytic = (t,u₀) -> u₀*exp(doublealpha*t)\n",
    "prob_ode_doublelinear = ODEProblem(f,Double(1)/Double(2),analytic=analytic)\n",
    "sol =solve(prob_ode_doublelinear::ODEProblem,[0,1],Δt=1/2^(6),save_timeseries=true,alg=:RK4)\n",
    "println(sol[end]); println(typeof(sol[end]))"
   ]
  },
  {
   "cell_type": "markdown",
   "metadata": {},
   "source": [
    "DoubleDouble errors for many reason. For one, it cannot convert the default parameters form rationals to Double. But even if you set all of the default parameters to Double, it will still error because DoubleDoubles cannot multiply Ints! [An issue has been filed to the DoubleDouble.jl repo for this case](https://github.com/simonbyrne/DoubleDouble.jl/issues/16). If you checkout the branch from the Issue, you will see that it will still error because DoubleDouble isn't compatible with `exp`. [There's another issue for that.](https://github.com/simonbyrne/DoubleDouble.jl/issues/8). "
   ]
  },
  {
   "cell_type": "markdown",
   "metadata": {},
   "source": [
    "## Conclusion\n",
    "\n",
    "As you can see, DifferentialEquations.jl can use arbitrary Julia-defined number systems in its arithmetic. The only limitations are the limitations inherent in the number systems themselves. ArbFloats and ArbReals are the most feature-complete and give great performance compared to BigFloats, and thus I recommend their use when high-precision (less than ~512-800 bits) is required. DecFP is a great library for high-performance decimal numbers and works well as well. Other number systems could use some modernization."
   ]
  }
 ],
 "metadata": {
  "kernelspec": {
   "display_name": "Julia 0.5.0-rc3",
   "language": "julia",
   "name": "julia-0.5"
  },
  "language_info": {
   "file_extension": ".jl",
   "mimetype": "application/julia",
   "name": "julia",
   "version": "0.5.0"
  }
 },
 "nbformat": 4,
 "nbformat_minor": 0
}
