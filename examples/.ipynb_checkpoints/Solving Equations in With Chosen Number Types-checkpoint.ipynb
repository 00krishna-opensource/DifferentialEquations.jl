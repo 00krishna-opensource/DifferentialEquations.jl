{
 "cells": [
  {
   "cell_type": "markdown",
   "metadata": {},
   "source": [
    "# Solving Equations with Chosen Number Types\n",
    "\n",
    "One of the nice things about DifferentialEquations.jl is that it is designed with Julia's type system in mind. What this means is, if you have properly defined a Number type, you can use this number type in DifferentialEquations.jl's algorithms! [Note that this is restricted to the native algorithms of DifferentialEquations.jl. The external solvers are not compatible with some number systems. For example, ODE.jl will throw errors unless certain options are set, and ODEInterface will convert the numbers to floats].\n",
    "\n",
    "DifferentialEquations.jl determines the numbers to use in its solvers via the types that are designated by Δt and the initial condition of the problem. It will keep the time values in the same type as Δt, and the solution values in the same type as the initial condition. [Note that adaptive timestepping requires that Δt be compaible with `sqrt` and `^` functions. Thus Δt cannot be Integer or numbers like that if adaptive timestepping is chosen].\n",
    "\n",
    "Let's solve the linear ODE first define an easy way to get ODEProblems for the linear ODE:"
   ]
  },
  {
   "cell_type": "code",
   "execution_count": null,
   "metadata": {
    "collapsed": false
   },
   "outputs": [],
   "source": [
    "function linearODE(;u₀=1/2)\n",
    "  f(u,t) = u\n",
    "  analytic(u₀,t) = u₀*exp(t)\n",
    "  return(ODEProblem(f,u₀,analytic=analytic))\n",
    "end"
   ]
  },
  {
   "cell_type": "markdown",
   "metadata": {},
   "source": [
    "First let's solve it using Float64s. To do so, we just need to set u₀ to a Float64 (which is done by the default) and Δt should be a float as well."
   ]
  },
  {
   "cell_type": "code",
   "execution_count": 3,
   "metadata": {
    "collapsed": false
   },
   "outputs": [
    {
     "name": "stdout",
     "output_type": "stream",
     "text": [
      "DifferentialEquations.ODESolution with 65 timesteps. Analytical solution is known.\n",
      "u: 1.3591409135631616\n",
      "errors: Dict(:l∞=>6.66361e-10,:final=>6.66361e-10,:l2=>3.12986e-10)\n",
      "t: [0.0,0.015625,0.03125,0.046875,0.0625,0.078125,0.09375,0.109375,0.125,0.140625,0.15625,0.171875,0.1875,0.203125,0.21875,0.234375,0.25,0.265625,0.28125,0.296875,0.3125,0.328125,0.34375,0.359375,0.375,0.390625,0.40625,0.421875,0.4375,0.453125,0.46875,0.484375,0.5,0.515625,0.53125,0.546875,0.5625,0.578125,0.59375,0.609375,0.625,0.640625,0.65625,0.671875,0.6875,0.703125,0.71875,0.734375,0.75,0.765625,0.78125,0.796875,0.8125,0.828125,0.84375,0.859375,0.875,0.890625,0.90625,0.921875,0.9375,0.953125,0.96875,0.984375,1.0]\n",
      "timeseries: [0.5,0.507874,0.515872,0.523996,0.532247,0.540629,0.549143,0.55779,0.566574,0.575496,0.584559,0.593765,0.603115,0.612613,0.62226,0.632059,0.642013,0.652123,0.662392,0.672824,0.683419,0.694181,0.705113,0.716217,0.727496,0.738952,0.750589,0.762409,0.774415,0.78661,0.798998,0.81158,0.824361,0.837342,0.850529,0.863923,0.877527,0.891346,0.905383,0.919641,0.934123,0.948833,0.963775,0.978952,0.994369,1.01003,1.02593,1.04209,1.0585,1.07517,1.0921,1.1093,1.12677,1.14451,1.16253,1.18084,1.19944,1.21833,1.23751,1.257,1.27679,1.2969,1.31732,1.33807,1.35914]\n",
      "timeseries_analytic: [0.5,0.507874,0.515872,0.523996,0.532247,0.540629,0.549143,0.55779,0.566574,0.575496,0.584559,0.593765,0.603115,0.612613,0.62226,0.632059,0.642013,0.652123,0.662392,0.672824,0.683419,0.694181,0.705113,0.716217,0.727496,0.738952,0.750589,0.762409,0.774415,0.78661,0.798998,0.81158,0.824361,0.837342,0.850529,0.863923,0.877527,0.891346,0.905383,0.919641,0.934123,0.948833,0.963775,0.978952,0.994369,1.01003,1.02593,1.04209,1.0585,1.07517,1.0921,1.1093,1.12677,1.14451,1.16253,1.18084,1.19944,1.21833,1.23751,1.257,1.27679,1.2969,1.31732,1.33807,1.35914]\n",
      "\n"
     ]
    }
   ],
   "source": [
    "using DifferentialEquations\n",
    "prob = linearODEExample()\n",
    "sol =solve(prob::ODEProblem,[0,1],Δt=1/2^(6),save_timeseries=true,alg=:RK4)\n",
    "println(sol)"
   ]
  },
  {
   "cell_type": "markdown",
   "metadata": {},
   "source": [
    "Notice that both the times and the solutions were saved as Float64. Let's change the time to use rational values:"
   ]
  },
  {
   "cell_type": "code",
   "execution_count": 4,
   "metadata": {
    "collapsed": false
   },
   "outputs": [
    {
     "name": "stdout",
     "output_type": "stream",
     "text": [
      "DifferentialEquations.ODESolution with 65 timesteps. Analytical solution is known.\n",
      "u: 1.3591409135631616\n",
      "errors: Dict(:l∞=>6.66361e-10,:final=>6.66361e-10,:l2=>3.12986e-10)\n",
      "t: Rational{Int64}[0//1,1//64,1//32,3//64,1//16,5//64,3//32,7//64,1//8,9//64,5//32,11//64,3//16,13//64,7//32,15//64,1//4,17//64,9//32,19//64,5//16,21//64,11//32,23//64,3//8,25//64,13//32,27//64,7//16,29//64,15//32,31//64,1//2,33//64,17//32,35//64,9//16,37//64,19//32,39//64,5//8,41//64,21//32,43//64,11//16,45//64,23//32,47//64,3//4,49//64,25//32,51//64,13//16,53//64,27//32,55//64,7//8,57//64,29//32,59//64,15//16,61//64,31//32,63//64,1//1]\n",
      "timeseries: [0.5,0.507874,0.515872,0.523996,0.532247,0.540629,0.549143,0.55779,0.566574,0.575496,0.584559,0.593765,0.603115,0.612613,0.62226,0.632059,0.642013,0.652123,0.662392,0.672824,0.683419,0.694181,0.705113,0.716217,0.727496,0.738952,0.750589,0.762409,0.774415,0.78661,0.798998,0.81158,0.824361,0.837342,0.850529,0.863923,0.877527,0.891346,0.905383,0.919641,0.934123,0.948833,0.963775,0.978952,0.994369,1.01003,1.02593,1.04209,1.0585,1.07517,1.0921,1.1093,1.12677,1.14451,1.16253,1.18084,1.19944,1.21833,1.23751,1.257,1.27679,1.2969,1.31732,1.33807,1.35914]\n",
      "timeseries_analytic: [0.5,0.507874,0.515872,0.523996,0.532247,0.540629,0.549143,0.55779,0.566574,0.575496,0.584559,0.593765,0.603115,0.612613,0.62226,0.632059,0.642013,0.652123,0.662392,0.672824,0.683419,0.694181,0.705113,0.716217,0.727496,0.738952,0.750589,0.762409,0.774415,0.78661,0.798998,0.81158,0.824361,0.837342,0.850529,0.863923,0.877527,0.891346,0.905383,0.919641,0.934123,0.948833,0.963775,0.978952,0.994369,1.01003,1.02593,1.04209,1.0585,1.07517,1.0921,1.1093,1.12677,1.14451,1.16253,1.18084,1.19944,1.21833,1.23751,1.257,1.27679,1.2969,1.31732,1.33807,1.35914]\n",
      "\n"
     ]
    }
   ],
   "source": [
    "sol =solve(prob::ODEProblem,[0,1],Δt=1//2^(6),save_timeseries=true,alg=:RK4)\n",
    "println(sol)"
   ]
  },
  {
   "cell_type": "markdown",
   "metadata": {},
   "source": [
    "Now let's do something fun. Let's change the solution to use `Rational{BigInt}` and print out the value at the end of the simulation. To do so, simply change the definition of the initial condition. "
   ]
  },
  {
   "cell_type": "code",
   "execution_count": 6,
   "metadata": {
    "collapsed": false
   },
   "outputs": [
    {
     "name": "stdout",
     "output_type": "stream",
     "text": [
      "141217100788096473564856992296909371113095925795170510556258058125583541926938300686249179614544597924087770419506859376489989023740630684896660667703214281176763415508454329816003201860338180198218976200357646373046155729138075933735890521661568591641788303431816406116753877358252208175374246624233953305164449660050809749422419674752919055768758862223179676454765516650219988656280413785621461190602870987714895036926839503488706806155847279778687904419454093450567304081165496544203545675129159247492744466854932986764632940323097473155782767820801//103901736294493399331906203800941006257702988071880298940800935436946746993350227010889809955056894456237375421246273373308811058508386760039228736340176901169680091432307104423817894629121258427763349353572162457268166803057689802719293114967112000076435230243504849794594935042439494264329963936428965776594160252348880706479705363983899847261470345571711323115482594192469812914254316633055739454230158493217881421133993458922285861121482244075896394484413697510176495214294255303055687115699838613747537690342312397404298310069542015116053967798272\n"
     ]
    }
   ],
   "source": [
    "prob = linearODEExample(u₀=BigInt(1)//BigInt(2))\n",
    "sol =solve(prob::ODEProblem,[0,1],Δt=1//2^(6),save_timeseries=true,alg=:RK4)\n",
    "println(sol[end])"
   ]
  },
  {
   "cell_type": "markdown",
   "metadata": {},
   "source": [
    "That's one huge fraction! What about the analytical solution?"
   ]
  },
  {
   "cell_type": "code",
   "execution_count": 10,
   "metadata": {
    "collapsed": false
   },
   "outputs": [
    {
     "data": {
      "text/plain": [
       "1.359140914229522545397799149213824421167373657226562500000000000000000000000000"
      ]
     },
     "execution_count": 10,
     "metadata": {},
     "output_type": "execute_result"
    }
   ],
   "source": [
    "sol.timeseries_analytic[end]"
   ]
  },
  {
   "cell_type": "markdown",
   "metadata": {},
   "source": [
    "This is to be expected. Notice that when we defined `analytic`, we used the `exp` function. In Julia, this is defined on `Rational{BigInt}` to spit out a `BigFloat`, and so all of the analytical solution's values change to `BigFloat` to compensate. This shows that DifferentialEquations.jl is using the correct numbers. So can we do more?"
   ]
  },
  {
   "cell_type": "markdown",
   "metadata": {},
   "source": [
    "## Testing additional number types\n",
    "\n",
    "Let's test a bunch of other number types. First I'm going to test Jeffrey Sarnoff's ArbFloats. These high precision numbers which are much faster than Bigs for less than 500-800 bits of accuracy. Having already installed Nemo and ArbFloats, I can use them in DifferentialEquations.jl via:"
   ]
  },
  {
   "cell_type": "code",
   "execution_count": 12,
   "metadata": {
    "collapsed": false
   },
   "outputs": [
    {
     "name": "stdout",
     "output_type": "stream",
     "text": [
      "1.35914091356316169499390272459222\n"
     ]
    }
   ],
   "source": [
    "using ArbFloats\n",
    "prob = linearODEExample(u₀=ArbFloat(1)/ArbFloat(2))\n",
    "sol =solve(prob::ODEProblem,[0,1],Δt=1//2^(6),save_timeseries=true,alg=:RK4)\n",
    "println(sol[end])"
   ]
  },
  {
   "cell_type": "markdown",
   "metadata": {},
   "source": [
    "Let's double-check that value:"
   ]
  },
  {
   "cell_type": "code",
   "execution_count": 15,
   "metadata": {
    "collapsed": false
   },
   "outputs": [
    {
     "data": {
      "text/plain": [
       "ArbFloats.ArbFloat{116}"
      ]
     },
     "execution_count": 15,
     "metadata": {},
     "output_type": "execute_result"
    }
   ],
   "source": [
    "typeof(sol[end])"
   ]
  },
  {
   "cell_type": "markdown",
   "metadata": {},
   "source": [
    "Bingo! ArbFloats work with DifferentialEquations.jl.\n",
    "\n",
    "Next let's try DecFP. DecFP is a fixed-precision decimals library which is made to give both performance but known decimals of accuracy. Having alrady installed DecFP, I can run the following:"
   ]
  },
  {
   "cell_type": "code",
   "execution_count": 18,
   "metadata": {
    "collapsed": false
   },
   "outputs": [
    {
     "name": "stdout",
     "output_type": "stream",
     "text": [
      "+1359140913563161694993902724592222E-33\n",
      "DecFP.Dec128\n"
     ]
    }
   ],
   "source": [
    "using DecFP\n",
    "prob = linearODEExample(u₀=Dec128(1)/Dec128(2))\n",
    "sol =solve(prob::ODEProblem,[0,1],Δt=1//2^(6),save_timeseries=true,alg=:RK4)\n",
    "println(sol[end]); println(typeof(sol[end]))"
   ]
  },
  {
   "cell_type": "markdown",
   "metadata": {},
   "source": [
    "Bingo! DecFP works with DifferentialEquations.jl\n",
    "\n",
    "What about Decimals?"
   ]
  },
  {
   "cell_type": "code",
   "execution_count": null,
   "metadata": {
    "collapsed": false
   },
   "outputs": [
    {
     "name": "stderr",
     "output_type": "stream",
     "text": [
      "ERROR (unhandled task failure): MethodError: no method matching show_backtrace(::Base.AbstractIOBuffer{Array{UInt8,1}}, ::Symbol, ::Array{Ptr{Void},1}, ::UnitRange{Int64})\n",
      "Closest candidates are:\n",
      "  show_backtrace(::IO, !Matched::Array{Any,1}) at replutil.jl:577\n",
      "  show_backtrace(::IO, !Matched::Array{T,1}) at replutil.jl:571\n"
     ]
    }
   ],
   "source": [
    "using Decimals\n",
    "prob = linearODEExample(u₀=[decimal(\"1.0\")]./[decimal(\"2.0\")])\n",
    "sol =solve(prob::ODEProblem,[0,1],Δt=1/2^(6),save_timeseries=true,alg=:RK4) #Fails\n",
    "println(sol[end]); println(typeof(sol[end]))"
   ]
  },
  {
   "cell_type": "markdown",
   "metadata": {},
   "source": [
    "At the time of writing this, Decimals are not compatible. This is not on DifferentialEquations.jl's end, it's on Decimal's end since it stems from not having an `abs` function (along with many other functions being missing!). Thus it's not recommended you use Decimals with DifferentialEquations.jl\n",
    "\n",
    "What about ArbReals? These are interval versions of ArbReals designed to give checked-arithmetic."
   ]
  },
  {
   "cell_type": "code",
   "execution_count": null,
   "metadata": {
    "collapsed": true
   },
   "outputs": [],
   "source": [
    "using ArbReals\n",
    "prob = linearODEExample(u₀=ArbReals(1)/ArbReals(2))\n",
    "sol =solve(prob::ODEProblem,[0,1],Δt=1//2^(6),save_timeseries=true,alg=:RK4)\n",
    "println(sol[end]); println(typeof(sol[end]))"
   ]
  },
  {
   "cell_type": "markdown",
   "metadata": {},
   "source": [
    "At the time of writing this I couldn't get ArbReals to precompile.\n",
    "\n",
    "What about DoubleDouble?"
   ]
  },
  {
   "cell_type": "code",
   "execution_count": null,
   "metadata": {
    "collapsed": false
   },
   "outputs": [
    {
     "name": "stderr",
     "output_type": "stream",
     "text": [
      "ERROR (unhandled task failure): MethodError: no method matching show_backtrace(::Base.AbstractIOBuffer{Array{UInt8,1}}, ::Symbol, ::Array{Ptr{Void},1}, ::UnitRange{Int64})\n",
      "Closest candidates are:\n",
      "  show_backtrace(::IO, !Matched::Array{Any,1}) at replutil.jl:577\n",
      "  show_backtrace(::IO, !Matched::Array{T,1}) at replutil.jl:571\n"
     ]
    }
   ],
   "source": [
    "using DoubleDouble\n",
    "prob = linearODEExample(u₀=Double(1)/Double(2);α=Double(1))\n",
    "sol =solve(prob::ODEProblem,[0,1],Δt=1/2^(6),save_timeseries=true,alg=:RK4)\n",
    "println(sol[end]); println(typeof(sol[end]))"
   ]
  },
  {
   "cell_type": "markdown",
   "metadata": {},
   "source": [
    "DoubleDouble is erroring because DoubleDoubles cannot multiply Ints! [An issue has been filed to the DoubleDouble.jl repo for this case](https://github.com/simonbyrne/DoubleDouble.jl/issues/16). If you checkout the branch from the Issue, you will see that it will still error because DoubleDouble isn't compatible with `exp`. [There's another issue for that.](https://github.com/simonbyrne/DoubleDouble.jl/issues/8). "
   ]
  },
  {
   "cell_type": "markdown",
   "metadata": {},
   "source": [
    "## Conclusion\n",
    "\n",
    "As you can see, DifferentialEquations.jl can use arbitrary Julia-defined number systems in its arithmetic. The only limitations are the limitations inherent in the number systems themselves. ArbFloats and ArbReals are the most feature-complete and give great performance compared to BigFloats, and thus I recommend their use when high-precision (less than ~512-800 bits) is required. DecFP is a great library for high-performance decimal numbers and works well as well. Other number systems could use some modernization."
   ]
  },
  {
   "cell_type": "code",
   "execution_count": null,
   "metadata": {
    "collapsed": true
   },
   "outputs": [],
   "source": []
  }
 ],
 "metadata": {
  "kernelspec": {
   "display_name": "Julia 0.5.0-rc0",
   "language": "julia",
   "name": "julia-0.5"
  },
  "language_info": {
   "file_extension": ".jl",
   "mimetype": "application/julia",
   "name": "julia",
   "version": "0.5.0"
  }
 },
 "nbformat": 4,
 "nbformat_minor": 0
}
