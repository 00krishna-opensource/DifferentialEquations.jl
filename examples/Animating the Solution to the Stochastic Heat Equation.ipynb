{
 "cells": [
  {
   "cell_type": "markdown",
   "metadata": {},
   "source": [
    "In this example we will show how to animate the solution to the Heat Equation. We will use the Birth-Death process that is defined in `/src/premades/premade_problems.jl` as:"
   ]
  },
  {
   "cell_type": "code",
   "execution_count": 6,
   "metadata": {
    "collapsed": false
   },
   "outputs": [
    {
     "name": "stderr",
     "output_type": "stream",
     "text": [
      "WARNING: imported binding for prob_femheat_stochasticbirthdeath overwritten in module Main\n"
     ]
    },
    {
     "data": {
      "text/plain": [
       "prob_femheat_stochasticbirthdeath"
      ]
     },
     "execution_count": 6,
     "metadata": {},
     "output_type": "execute_result"
    }
   ],
   "source": [
    "using DifferentialEquations, Plots#, ImageMagick # Note that ImageMagick is not required on Linux, required on Windows(/Mac?) \n",
    "f = (t,x,u)  -> ones(size(x,1)) - .5u\n",
    "u₀ = (x) -> zeros(size(x,1))\n",
    "σ = (t,x,u) -> 1u.^2\n",
    "\"Example problem which starts with 0 and solves with ``f(u)=1-u/2`` with noise ``σ(u)=10u^2``\"\n",
    "prob_femheat_stochasticbirthdeath = HeatProblem(u₀,f,σ=σ)"
   ]
  },
  {
   "cell_type": "markdown",
   "metadata": {},
   "source": [
    "As in the other cases, we define our problem, our mesh, and our timestepping as follows:"
   ]
  },
  {
   "cell_type": "code",
   "execution_count": 3,
   "metadata": {
    "collapsed": false
   },
   "outputs": [
    {
     "data": {
      "text/plain": [
       "DifferentialEquations.HeatProblem(DifferentialEquations.#420,DifferentialEquations.#178,DifferentialEquations.#418,nothing,nothing,DifferentialEquations.#179,false,false,0,DifferentialEquations.#422,true,:White,nothing)"
      ]
     },
     "execution_count": 3,
     "metadata": {},
     "output_type": "execute_result"
    }
   ],
   "source": [
    "T = 5\n",
    "Δx = 1//2^(3)\n",
    "Δt = 1//2^(11)\n",
    "fem_mesh = parabolic_squaremesh([0 1 0 1],Δx,Δt,T,:neumann)\n",
    "prob = prob_femheat_stochasticbirthdeath"
   ]
  },
  {
   "cell_type": "markdown",
   "metadata": {},
   "source": [
    "(Note: you get a warning if you ran the first cell because the function `heatProblemExample_stochasticbirthdeath()` is pre-defined in DifferentialEquations.jl for testing purposes.) As with other differential equation problems, we solve and plot the same way, giving arguments to the solver to specify some behavior. Here we wish to solve the equation using a Forward Euler method. Note that by default the PDE solvers do not save the timeseries (this is because, in many cases, it can use a lot of memory!). However, we can turn that on by using a keyword flag as well. Thus we solve the equation with:"
   ]
  },
  {
   "cell_type": "code",
   "execution_count": 4,
   "metadata": {
    "collapsed": false
   },
   "outputs": [],
   "source": [
    "sol = solve(fem_mesh::FEMmesh,prob::HeatProblem,alg=:Euler,save_timeseries=true);"
   ]
  },
  {
   "cell_type": "markdown",
   "metadata": {},
   "source": [
    "To build the animation, we simply call the `animate` function with the solution type. Since the `animate` function is plugging into Plots.jl, we can use keyword arguments for Plots.jl to set the color limits between 0 and 3, and turn off the color bar. In total, the command is:\n",
    "\n",
    "[Note: on some systems building an animation like this may take awhile]"
   ]
  },
  {
   "cell_type": "code",
   "execution_count": 7,
   "metadata": {
    "collapsed": false
   },
   "outputs": [
    {
     "name": "stderr",
     "output_type": "stream",
     "text": [
      "INFO: Saved animation to /home/crackauc/.julia/v0.5/DifferentialEquations/examples/sh_animation.gif\n"
     ]
    },
    {
     "data": {
      "text/html": [
       "<img src=\"sh_animation.gif?0.3589162652544502>\" />"
      ],
      "text/plain": [
       "Plots.AnimatedGif(\"/home/crackauc/.julia/v0.5/DifferentialEquations/examples/sh_animation.gif\")"
      ]
     },
     "execution_count": 7,
     "metadata": {},
     "output_type": "execute_result"
    }
   ],
   "source": [
    "animate(sol::FEMSolution;zlims=(0,3),cbar=false,filename=\"sh_animation.gif\")"
   ]
  }
 ],
 "metadata": {
  "kernelspec": {
   "display_name": "Julia 0.5.0-rc3",
   "language": "julia",
   "name": "julia-0.5"
  },
  "language_info": {
   "file_extension": ".jl",
   "mimetype": "application/julia",
   "name": "julia",
   "version": "0.5.0"
  }
 },
 "nbformat": 4,
 "nbformat_minor": 0
}
