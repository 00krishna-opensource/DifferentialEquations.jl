{
 "cells": [
  {
   "cell_type": "markdown",
   "metadata": {},
   "source": [
    "# Unit Checked Arithmetic via SIUnits\n",
    "\n",
    "Units and dimensional analysis are standard tools across the sciences for checking the correctness of your equation. However, most ODE solvers only allow for the equation to be in dimensionless form, leaving it up to the user to both convert the equation to a dimensionless form, punch in the equations, and hopefully not make an error along the way.\n",
    "\n",
    "DifferentialEquations.jl allows for one to use Unitful.jl to have unit-checked arithmetic natively in the solvers. Given the dispatch implementation of the Unitful, this has little overhead.\n",
    "\n",
    "## Using Unitful\n",
    "\n",
    "To use SIUnits, you need to have the package installed. Then you can add units to your variables. For example:"
   ]
  },
  {
   "cell_type": "code",
   "execution_count": 15,
   "metadata": {
    "collapsed": false
   },
   "outputs": [
    {
     "data": {
      "text/plain": [
       "1.0 s"
      ]
     },
     "execution_count": 15,
     "metadata": {},
     "output_type": "execute_result"
    }
   ],
   "source": [
    "using Unitful\n",
    "t = 1.0u\"s\""
   ]
  },
  {
   "cell_type": "markdown",
   "metadata": {},
   "source": [
    "Notice that `t` is a variable with units in seconds. If we make another value with seconds, they can add"
   ]
  },
  {
   "cell_type": "code",
   "execution_count": 16,
   "metadata": {
    "collapsed": false
   },
   "outputs": [
    {
     "data": {
      "text/plain": [
       "2.02 s"
      ]
     },
     "execution_count": 16,
     "metadata": {},
     "output_type": "execute_result"
    }
   ],
   "source": [
    "t2 = 1.02u\"s\"\n",
    "t+t2"
   ]
  },
  {
   "cell_type": "markdown",
   "metadata": {},
   "source": [
    "and they can multiply:"
   ]
  },
  {
   "cell_type": "code",
   "execution_count": 5,
   "metadata": {
    "collapsed": false
   },
   "outputs": [
    {
     "data": {
      "text/plain": [
       "1.02 s^2"
      ]
     },
     "execution_count": 5,
     "metadata": {},
     "output_type": "execute_result"
    }
   ],
   "source": [
    "t*t2"
   ]
  },
  {
   "cell_type": "markdown",
   "metadata": {},
   "source": [
    "You can even do rational roots:"
   ]
  },
  {
   "cell_type": "code",
   "execution_count": 6,
   "metadata": {
    "collapsed": false
   },
   "outputs": [
    {
     "data": {
      "text/plain": [
       "1.0 s^1/2"
      ]
     },
     "execution_count": 6,
     "metadata": {},
     "output_type": "execute_result"
    }
   ],
   "source": [
    "sqrt(t)"
   ]
  },
  {
   "cell_type": "markdown",
   "metadata": {},
   "source": [
    "Many operations work."
   ]
  },
  {
   "cell_type": "markdown",
   "metadata": {},
   "source": [
    "These operations will check to make sure units are correct, and will throw an error for incorrect operations:"
   ]
  },
  {
   "cell_type": "code",
   "execution_count": 7,
   "metadata": {
    "collapsed": false
   },
   "outputs": [
    {
     "ename": "LoadError",
     "evalue": "LoadError: Unitful.DimensionError()\nwhile loading In[7], in expression starting on line 1",
     "output_type": "error",
     "traceback": [
      "LoadError: Unitful.DimensionError()\nwhile loading In[7], in expression starting on line 1",
      "",
      " in +(::Unitful.Quantity{Float64,Unitful.Dimensions{(Unitful.Dimension{:Time}(1//1),)},Unitful.Units{(Unitful.Unit{:Second}(0,1//1),),Unitful.Dimensions{(Unitful.Dimension{:Time}(1//1),)}}}, ::Unitful.Quantity{Float64,Unitful.Dimensions{(Unitful.Dimension{:Time}(1//2),)},Unitful.Units{(Unitful.Unit{:Second}(0,1//2),),Unitful.Dimensions{(Unitful.Dimension{:Time}(1//2),)}}}) at /home/crackauc/.julia/v0.6/Unitful/src/Unitful.jl:310"
     ]
    }
   ],
   "source": [
    "t + sqrt(t)"
   ]
  },
  {
   "cell_type": "markdown",
   "metadata": {},
   "source": [
    "## Using SIUnits with DifferentialEquations.jl\n",
    "\n",
    "Just like with other number systems, you can choose the units for your numbers by simply specifying the units of the initial condition and the timestep. For example, to solve the linear ODE where the variable has units of Newton's and `t` is in Seconds, we would use:"
   ]
  },
  {
   "cell_type": "code",
   "execution_count": 9,
   "metadata": {
    "collapsed": false
   },
   "outputs": [
    {
     "ename": "LoadError",
     "evalue": "LoadError: Unitful.DimensionError()\nwhile loading In[9], in expression starting on line 6",
     "output_type": "error",
     "traceback": [
      "LoadError: Unitful.DimensionError()\nwhile loading In[9], in expression starting on line 6",
      "",
      " in convert(::Type{Quantity{Float64, Dimensions:{𝐋 𝐌 𝐓^-3}, Units:{N s^-1}}}, ::Unitful.Quantity{Float64,Unitful.Dimensions{(Unitful.Dimension{:Length}(1//1),Unitful.Dimension{:Mass}(1//1),Unitful.Dimension{:Time}(-2//1))},Unitful.Units{(Unitful.Unit{:Newton}(0,1//1),),Unitful.Dimensions{(Unitful.Dimension{:Length}(1//1),Unitful.Dimension{:Mass}(1//1),Unitful.Dimension{:Time}(-2//1))}}}) at /home/crackauc/.julia/v0.6/Unitful/src/Conversion.jl:134",
      " in ode_solve(::DifferentialEquations.ODEIntegrator{:Midpoint,Quantity{Float64, Dimensions:{𝐋 𝐌 𝐓^-2}, Units:{N}},Quantity{Float64, Dimensions:{𝐋 𝐌 𝐓^-2}, Units:{N}},1,Quantity{Float64, Dimensions:{𝐓}, Units:{s}},Float64,Quantity{Float64, Dimensions:{𝐋 𝐌 𝐓^-3}, Units:{N s^-1}},Quantity{Float64, Dimensions:{𝐋 𝐌 𝐓^-3}, Units:{N s^-1}}}) at /home/crackauc/.julia/v0.6/DifferentialEquations/src/ode/ode_integrators.jl:124",
      " in #solve#600(::Array{Any,1}, ::Function, ::DifferentialEquations.ODEProblem{Quantity{Float64, Dimensions:{𝐋 𝐌 𝐓^-2}, Units:{N}},Quantity{Float64, Dimensions:{𝐋 𝐌 𝐓^-2}, Units:{N}}}, ::Array{Int64,1}, ::Array{Any,1}, ::Array{Any,1}, ::Array{Any,1}) at /home/crackauc/.julia/v0.6/DifferentialEquations/src/ode/ode_solve.jl:225",
      " in (::DifferentialEquations.#kw##solve)(::Array{Any,1}, ::DifferentialEquations.#solve, ::DifferentialEquations.ODEProblem{Quantity{Float64, Dimensions:{𝐋 𝐌 𝐓^-2}, Units:{N}},Quantity{Float64, Dimensions:{𝐋 𝐌 𝐓^-2}, Units:{N}}}, ::Array{Int64,1}, ::Array{Any,1}, ::Array{Any,1}, ::Array{Any,1}) at ./<missing>:0 (repeats 2 times)"
     ]
    }
   ],
   "source": [
    "using DifferentialEquations\n",
    "f = (t,y) -> 0.5*y\n",
    "u₀ = 1.5u\"N\"\n",
    "prob = ODEProblem(f,u₀)\n",
    "\n",
    "sol =solve(prob::ODEProblem,[0,1],Δt=(1/2^4)u\"s\",save_timeseries=true,alg=:Midpoint)"
   ]
  },
  {
   "cell_type": "markdown",
   "metadata": {},
   "source": [
    "Notice that we recieved a unit mismatch error. This is correctly so! Remember that for an ODE:\n",
    "\n",
    "$$ \\frac{dy}{dt} = f(t,y) $$\n",
    "\n",
    "we must have that `f` is a rate, i.e. `f` is a change in `y` per unit time. So we need to fix the units of `f` in our example to be `N/s`. Notice that we then do not receive an error if we do the following:"
   ]
  },
  {
   "cell_type": "code",
   "execution_count": 11,
   "metadata": {
    "collapsed": false
   },
   "outputs": [
    {
     "data": {
      "text/plain": [
       "DifferentialEquations.ODESolution, 17 timesteps, final value 1.7720353197843262 N"
      ]
     },
     "execution_count": 11,
     "metadata": {},
     "output_type": "execute_result"
    }
   ],
   "source": [
    "f = (t,y) -> 0.5*y/3.0u\"s\"\n",
    "prob = ODEProblem(f,u₀)\n",
    "\n",
    "sol =solve(prob::ODEProblem,[0,1],Δt=(1/2^4)u\"s\",save_timeseries=true,alg=:Midpoint)"
   ]
  },
  {
   "cell_type": "markdown",
   "metadata": {},
   "source": [
    "This gives a a normal solution object. Notice that the values are all with the correct units:"
   ]
  },
  {
   "cell_type": "code",
   "execution_count": 12,
   "metadata": {
    "collapsed": false
   },
   "outputs": [
    {
     "name": "stdout",
     "output_type": "stream",
     "text": [
      "Unitful.Quantity{Float64,Unitful.Dimensions{(Unitful.Dimension{:Length}(1//1),Unitful.Dimension{:Mass}(1//1),Unitful.Dimension{:Time}(-2//1))},Unitful.Units{(Unitful.Unit{:Newton}(0,1//1),),Unitful.Dimensions{(Unitful.Dimension{:Length}(1//1),Unitful.Dimension{:Mass}(1//1),Unitful.Dimension{:Time}(-2//1))}}}[1.5 N,1.51571 N,1.53158 N,1.54761 N,1.56382 N,1.58019 N,1.59674 N,1.61346 N,1.63035 N,1.64742 N,1.66467 N,1.68211 N,1.69972 N,1.71752 N,1.7355 N,1.75367 N,1.77204 N]"
     ]
    }
   ],
   "source": [
    "print(sol.timeseries)"
   ]
  },
  {
   "cell_type": "markdown",
   "metadata": {},
   "source": [
    "We can plot the solution using the plot recipe. Note that normally you would have to strip the units in order to plot, but DifferentialEquations.jl does this for you:"
   ]
  },
  {
   "cell_type": "code",
   "execution_count": 17,
   "metadata": {
    "collapsed": false
   },
   "outputs": [
    {
     "ename": "LoadError",
     "evalue": "LoadError: MethodError: no method matching isless(::Float64, ::Unitful.Quantity{Float64,Unitful.Dimensions{(Unitful.Dimension{:Time}(1//1),)},Unitful.Units{(Unitful.Unit{:Second}(0,1//1),),Unitful.Dimensions{(Unitful.Dimension{:Time}(1//1),)}}})\nClosest candidates are:\n  isless(::Float64, !Matched::Float64) at float.jl:283\n  isless(::AbstractFloat, !Matched::AbstractFloat) at operators.jl:75\n  isless(::Real, !Matched::AbstractFloat) at operators.jl:76\n  ...\nwhile loading In[17], in expression starting on line 1",
     "output_type": "error",
     "traceback": [
      "LoadError: MethodError: no method matching isless(::Float64, ::Unitful.Quantity{Float64,Unitful.Dimensions{(Unitful.Dimension{:Time}(1//1),)},Unitful.Units{(Unitful.Unit{:Second}(0,1//1),),Unitful.Dimensions{(Unitful.Dimension{:Time}(1//1),)}}})\nClosest candidates are:\n  isless(::Float64, !Matched::Float64) at float.jl:283\n  isless(::AbstractFloat, !Matched::AbstractFloat) at operators.jl:75\n  isless(::Real, !Matched::AbstractFloat) at operators.jl:76\n  ...\nwhile loading In[17], in expression starting on line 1",
      "",
      " in expand_extrema!(::Plots.Extrema, ::Unitful.Quantity{Float64,Unitful.Dimensions{(Unitful.Dimension{:Time}(1//1),)},Unitful.Units{(Unitful.Unit{:Second}(0,1//1),),Unitful.Dimensions{(Unitful.Dimension{:Time}(1//1),)}}}) at /home/crackauc/.julia/v0.6/Plots/src/axes.jl:228",
      " in expand_extrema!(::Plots.Axis, ::Array{Quantity{Float64, Dimensions:{𝐓}, Units:{s}},1}) at /home/crackauc/.julia/v0.6/Plots/src/axes.jl:251",
      " in expand_extrema!(::Plots.Subplot{Plots.PyPlotBackend}, ::Dict{Symbol,Any}) at /home/crackauc/.julia/v0.6/Plots/src/axes.jl:278",
      " in _expand_subplot_extrema(::Plots.Subplot{Plots.PyPlotBackend}, ::Dict{Symbol,Any}, ::Symbol) at /home/crackauc/.julia/v0.6/Plots/src/pipeline.jl:354",
      " in _process_seriesrecipe(::Plots.Plot{Plots.PyPlotBackend}, ::Dict{Symbol,Any}) at /home/crackauc/.julia/v0.6/Plots/src/pipeline.jl:384",
      " in _plot!(::Plots.Plot{Plots.PyPlotBackend}, ::Dict{Symbol,Any}, ::Tuple{Array{Quantity{Float64, Dimensions:{𝐓}, Units:{s}},1},Array{Quantity{Float64, Dimensions:{𝐋 𝐌 𝐓^-2}, Units:{N}},1}}) at /home/crackauc/.julia/v0.6/Plots/src/plot.jl:213",
      " in #plot#244(::Array{Any,1}, ::Function, ::Array{Quantity{Float64, Dimensions:{𝐓}, Units:{s}},1}, ::Vararg{Any,N}) at /home/crackauc/.julia/v0.6/Plots/src/plot.jl:52",
      " in plot(::Array{Quantity{Float64, Dimensions:{𝐓}, Units:{s}},1}, ::Array{Quantity{Float64, Dimensions:{𝐋 𝐌 𝐓^-2}, Units:{N}},1}, ::Vararg{Array{Quantity{Float64, Dimensions:{𝐋 𝐌 𝐓^-2}, Units:{N}},1},N}) at /home/crackauc/.julia/v0.6/Plots/src/plot.jl:46"
     ]
    }
   ],
   "source": [
    "plot(sol.t,sol[:])"
   ]
  },
  {
   "cell_type": "markdown",
   "metadata": {},
   "source": [
    "Notice that here we pulled the units for the label directly from the solution. Thus if the units change, the labels will change automatically."
   ]
  },
  {
   "cell_type": "markdown",
   "metadata": {},
   "source": [
    "## Other Solvers and Future Developments\n",
    "\n",
    "As of right now, the ODE solvers are the only solvers which are fully compatible with units. The SDE solvers will come shortly. For the FEM PDE solvers, the tooling is all compatible with units (i.e. you can make meshes with units, and most of the functions will work). However, the solver step is what's not compatible with units. The reason is because `\\` uses CHOLMOD which does not work with units, and sparse multiplication also is undefined for units. These facts are major stop gaps in development here. I believe it's not worth it to simply \"turn off\" units at that point because that is there area where one would wish to have units checked."
   ]
  }
 ],
 "metadata": {
  "kernelspec": {
   "display_name": "Julia 0.5.0-rc3",
   "language": "julia",
   "name": "julia-0.5"
  },
  "language_info": {
   "file_extension": ".jl",
   "mimetype": "application/julia",
   "name": "julia",
   "version": "0.6.0"
  }
 },
 "nbformat": 4,
 "nbformat_minor": 1
}
