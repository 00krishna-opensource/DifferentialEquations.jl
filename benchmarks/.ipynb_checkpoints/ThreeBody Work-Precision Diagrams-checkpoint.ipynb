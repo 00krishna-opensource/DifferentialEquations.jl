{
 "cells": [
  {
   "cell_type": "code",
   "execution_count": null,
   "metadata": {
    "collapsed": true
   },
   "outputs": [],
   "source": [
    "using DifferentialEquations\n",
    "\n",
    "## Define the ThreeBody Problem\n",
    "const threebody_μ = parse(BigFloat,\"0.012277471\"); const threebody_μ′ = 1 - threebody_μ\n",
    "\n",
    "f = (t,u,du) -> begin\n",
    "  # 1 = y₁\n",
    "  # 2 = y₂\n",
    "  # 3 = y₁'\n",
    "  # 4 = y₂'\n",
    "  D₁ = ((u[1]+threebody_μ)^2 + u[2]^2)^(3/2)\n",
    "  D₂ = ((u[1]-threebody_μ′)^2 + u[2]^2)^(3/2)\n",
    "  du[1] = u[3]\n",
    "  du[2] = u[4]\n",
    "  du[3] = u[1] + 2u[4] - threebody_μ′*(u[1]+threebody_μ)/D₁ - threebody_μ*(u[1]-threebody_μ′)/D₂\n",
    "  du[4] = u[2] - 2u[3] - threebody_μ′*u[2]/D₁ - threebody_μ*u[2]/D₂\n",
    "end\n",
    "\n",
    "prob_ode_threebody = ODEProblem(f,[0.994, 0.0, 0.0, parse(BigFloat,\"-2.00158510637908252240537862224\")])\n",
    "\n",
    "t₀ = 0.0; T = parse(BigFloat,\"17.0652165601579625588917206249\")\n",
    "\n",
    "tspan = [t₀,T]\n",
    "tspan2 = [t₀,2T]\n",
    "setups = [Dict(:alg=>:DP5)\n",
    "          Dict(:alg=>:dopri5)\n",
    "          Dict(:alg=>:ode45)\n",
    "          Dict(:alg=>:ode45,:norm=>(y)->vecnorm(y,2))\n",
    "          Dict(:alg=>:ExplicitRK)\n",
    "          Dict(:alg=>:BS5)\n",
    "          Dict(:alg=>:Tsit5)\n",
    "          Dict(:alg=>:Vern8,:β=>0.08)\n",
    "          #Dict(:alg=>:ode78,:minstep=>1e-15)\n",
    "          Dict(:alg=>:DP8)\n",
    "          Dict(:alg=>:dop853)\n",
    "          ];\n",
    "names = [\"DP5\",\"dopri5\",\"ode45\",\"ode45n2\",\"ExplicitRK\",\"BS5\",\"Tsit5\",\"Vern8\",#\"ode78\",\n",
    "         \"DP8\",\"dop853\"];"
   ]
  }
 ],
 "metadata": {
  "kernelspec": {
   "display_name": "Julia 0.5.0-rc3",
   "language": "julia",
   "name": "julia-0.5"
  },
  "language_info": {
   "file_extension": ".jl",
   "mimetype": "application/julia",
   "name": "julia",
   "version": "0.5.0"
  }
 },
 "nbformat": 4,
 "nbformat_minor": 1
}
