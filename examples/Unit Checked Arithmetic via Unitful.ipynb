{
 "cells": [
  {
   "cell_type": "markdown",
   "metadata": {},
   "source": [
    "# Unit Checked Arithmetic via SIUnits\n",
    "\n",
    "Units and dimensional analysis are standard tools across the sciences for checking the correctness of your equation. However, most ODE solvers only allow for the equation to be in dimensionless form, leaving it up to the user to both convert the equation to a dimensionless form, punch in the equations, and hopefully not make an error along the way.\n",
    "\n",
    "DifferentialEquations.jl allows for one to use Unitful.jl to have unit-checked arithmetic natively in the solvers. Given the dispatch implementation of the Unitful, this has little overhead.\n",
    "\n",
    "## Using Unitful\n",
    "\n",
    "To use SIUnits, you need to have the package installed. Then you can add units to your variables. For example:"
   ]
  },
  {
   "cell_type": "code",
   "execution_count": 2,
   "metadata": {
    "collapsed": false
   },
   "outputs": [
    {
     "data": {
      "text/plain": [
       "1.0 s"
      ]
     },
     "execution_count": 2,
     "metadata": {},
     "output_type": "execute_result"
    }
   ],
   "source": [
    "using Unitful\n",
    "t = 1.0u\"s\""
   ]
  },
  {
   "cell_type": "markdown",
   "metadata": {},
   "source": [
    "Notice that `t` is a variable with units in seconds. If we make another value with seconds, they can add"
   ]
  },
  {
   "cell_type": "code",
   "execution_count": 16,
   "metadata": {
    "collapsed": false
   },
   "outputs": [
    {
     "data": {
      "text/plain": [
       "2.02 s"
      ]
     },
     "execution_count": 16,
     "metadata": {},
     "output_type": "execute_result"
    }
   ],
   "source": [
    "t2 = 1.02u\"s\"\n",
    "t+t2"
   ]
  },
  {
   "cell_type": "markdown",
   "metadata": {},
   "source": [
    "and they can multiply:"
   ]
  },
  {
   "cell_type": "code",
   "execution_count": 5,
   "metadata": {
    "collapsed": false
   },
   "outputs": [
    {
     "data": {
      "text/plain": [
       "1.02 s^2"
      ]
     },
     "execution_count": 5,
     "metadata": {},
     "output_type": "execute_result"
    }
   ],
   "source": [
    "t*t2"
   ]
  },
  {
   "cell_type": "markdown",
   "metadata": {},
   "source": [
    "You can even do rational roots:"
   ]
  },
  {
   "cell_type": "code",
   "execution_count": 6,
   "metadata": {
    "collapsed": false
   },
   "outputs": [
    {
     "data": {
      "text/plain": [
       "1.0 s^1/2"
      ]
     },
     "execution_count": 6,
     "metadata": {},
     "output_type": "execute_result"
    }
   ],
   "source": [
    "sqrt(t)"
   ]
  },
  {
   "cell_type": "markdown",
   "metadata": {},
   "source": [
    "Many operations work."
   ]
  },
  {
   "cell_type": "markdown",
   "metadata": {},
   "source": [
    "These operations will check to make sure units are correct, and will throw an error for incorrect operations:"
   ]
  },
  {
   "cell_type": "code",
   "execution_count": 7,
   "metadata": {
    "collapsed": false
   },
   "outputs": [
    {
     "ename": "LoadError",
     "evalue": "LoadError: Unitful.DimensionError()\nwhile loading In[7], in expression starting on line 1",
     "output_type": "error",
     "traceback": [
      "LoadError: Unitful.DimensionError()\nwhile loading In[7], in expression starting on line 1",
      "",
      " in +(::Unitful.Quantity{Float64,Unitful.Dimensions{(Unitful.Dimension{:Time}(1//1),)},Unitful.Units{(Unitful.Unit{:Second}(0,1//1),),Unitful.Dimensions{(Unitful.Dimension{:Time}(1//1),)}}}, ::Unitful.Quantity{Float64,Unitful.Dimensions{(Unitful.Dimension{:Time}(1//2),)},Unitful.Units{(Unitful.Unit{:Second}(0,1//2),),Unitful.Dimensions{(Unitful.Dimension{:Time}(1//2),)}}}) at /home/crackauc/.julia/v0.6/Unitful/src/Unitful.jl:310"
     ]
    }
   ],
   "source": [
    "t + sqrt(t)"
   ]
  },
  {
   "cell_type": "markdown",
   "metadata": {},
   "source": [
    "## Using SIUnits with DifferentialEquations.jl\n",
    "\n",
    "Just like with other number systems, you can choose the units for your numbers by simply specifying the units of the initial condition and the timestep. For example, to solve the linear ODE where the variable has units of Newton's and `t` is in Seconds, we would use:"
   ]
  },
  {
   "cell_type": "code",
   "execution_count": 4,
   "metadata": {
    "collapsed": false
   },
   "outputs": [
    {
     "ename": "LoadError",
     "evalue": "LoadError: Unitful.DimensionError()\nwhile loading In[4], in expression starting on line 6",
     "output_type": "error",
     "traceback": [
      "LoadError: Unitful.DimensionError()\nwhile loading In[4], in expression starting on line 6",
      "",
      " in convert(::Type{Quantity{Float64, Dimensions:{𝐋 𝐌 𝐓^-3}, Units:{N s^-1}}}, ::Unitful.Quantity{Float64,Unitful.Dimensions{(Unitful.Dimension{:Length}(1//1),Unitful.Dimension{:Mass}(1//1),Unitful.Dimension{:Time}(-2//1))},Unitful.Units{(Unitful.Unit{:Newton}(0,1//1),),Unitful.Dimensions{(Unitful.Dimension{:Length}(1//1),Unitful.Dimension{:Mass}(1//1),Unitful.Dimension{:Time}(-2//1))}}}) at /home/crackauc/.julia/v0.6/Unitful/src/Conversion.jl:136",
      " in ode_solve(::DifferentialEquations.ODEIntegrator{:Midpoint,Quantity{Float64, Dimensions:{𝐋 𝐌 𝐓^-2}, Units:{N}},Quantity{Float64, Dimensions:{𝐋 𝐌 𝐓^-2}, Units:{N}},1,Quantity{Float64, Dimensions:{𝐓}, Units:{s}},Float64,Quantity{Float64, Dimensions:{𝐋 𝐌 𝐓^-3}, Units:{N s^-1}},Quantity{Float64, Dimensions:{𝐋 𝐌 𝐓^-3}, Units:{N s^-1}}}) at /home/crackauc/.julia/v0.6/DifferentialEquations/src/ode/ode_integrators.jl:124",
      " in #solve#600(::Array{Any,1}, ::Function, ::DifferentialEquations.ODEProblem{Quantity{Float64, Dimensions:{𝐋 𝐌 𝐓^-2}, Units:{N}},Quantity{Float64, Dimensions:{𝐋 𝐌 𝐓^-2}, Units:{N}}}, ::Array{Int64,1}, ::Array{Any,1}, ::Array{Any,1}, ::Array{Any,1}) at /home/crackauc/.julia/v0.6/DifferentialEquations/src/ode/ode_solve.jl:225",
      " in (::DifferentialEquations.#kw##solve)(::Array{Any,1}, ::DifferentialEquations.#solve, ::DifferentialEquations.ODEProblem{Quantity{Float64, Dimensions:{𝐋 𝐌 𝐓^-2}, Units:{N}},Quantity{Float64, Dimensions:{𝐋 𝐌 𝐓^-2}, Units:{N}}}, ::Array{Int64,1}, ::Array{Any,1}, ::Array{Any,1}, ::Array{Any,1}) at ./<missing>:0 (repeats 2 times)",
      " in execute_request(::ZMQ.Socket, ::IJulia.Msg) at /home/crackauc/.julia/v0.6/IJulia/src/execute_request.jl:169",
      " in eventloop(::ZMQ.Socket) at /home/crackauc/.julia/v0.6/IJulia/src/eventloop.jl:8",
      " in (::IJulia.##9#15)() at ./task.jl:363"
     ]
    }
   ],
   "source": [
    "using DifferentialEquations\n",
    "f = (t,y) -> 0.5*y\n",
    "u₀ = 1.5u\"N\"\n",
    "prob = ODEProblem(f,u₀)\n",
    "\n",
    "sol =solve(prob::ODEProblem,[0,1],Δt=(1/2^4)u\"s\",save_timeseries=true,alg=:Midpoint)"
   ]
  },
  {
   "cell_type": "markdown",
   "metadata": {},
   "source": [
    "Notice that we recieved a unit mismatch error. This is correctly so! Remember that for an ODE:\n",
    "\n",
    "$$ \\frac{dy}{dt} = f(t,y) $$\n",
    "\n",
    "we must have that `f` is a rate, i.e. `f` is a change in `y` per unit time. So we need to fix the units of `f` in our example to be `N/s`. Notice that we then do not receive an error if we do the following:"
   ]
  },
  {
   "cell_type": "code",
   "execution_count": 6,
   "metadata": {
    "collapsed": false
   },
   "outputs": [
    {
     "data": {
      "text/plain": [
       "DifferentialEquations.ODESolution, 17 timesteps, final value 1.7720353197843262 N"
      ]
     },
     "execution_count": 6,
     "metadata": {},
     "output_type": "execute_result"
    }
   ],
   "source": [
    "f = (t,y) -> 0.5*y/3.0u\"s\"\n",
    "prob = ODEProblem(f,u₀)\n",
    "\n",
    "sol =solve(prob::ODEProblem,[0,1],Δt=(1/2^4)u\"s\",save_timeseries=true,alg=:Midpoint)"
   ]
  },
  {
   "cell_type": "markdown",
   "metadata": {},
   "source": [
    "This gives a a normal solution object. Notice that the values are all with the correct units:"
   ]
  },
  {
   "cell_type": "code",
   "execution_count": 12,
   "metadata": {
    "collapsed": false
   },
   "outputs": [
    {
     "name": "stdout",
     "output_type": "stream",
     "text": [
      "Unitful.Quantity{Float64,Unitful.Dimensions{(Unitful.Dimension{:Length}(1//1),Unitful.Dimension{:Mass}(1//1),Unitful.Dimension{:Time}(-2//1))},Unitful.Units{(Unitful.Unit{:Newton}(0,1//1),),Unitful.Dimensions{(Unitful.Dimension{:Length}(1//1),Unitful.Dimension{:Mass}(1//1),Unitful.Dimension{:Time}(-2//1))}}}[1.5 N,1.51571 N,1.53158 N,1.54761 N,1.56382 N,1.58019 N,1.59674 N,1.61346 N,1.63035 N,1.64742 N,1.66467 N,1.68211 N,1.69972 N,1.71752 N,1.7355 N,1.75367 N,1.77204 N]"
     ]
    }
   ],
   "source": [
    "print(sol.timeseries)"
   ]
  },
  {
   "cell_type": "markdown",
   "metadata": {},
   "source": [
    "We can plot the solution using the plot recipe."
   ]
  },
  {
   "cell_type": "code",
   "execution_count": 13,
   "metadata": {
    "collapsed": false
   },
   "outputs": [
    {
     "data": {
      "text/html": [
       "<img src=\"data:image/png;base64,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\" />"
      ]
     },
     "execution_count": 13,
     "metadata": {},
     "output_type": "execute_result"
    }
   ],
   "source": [
    "using UnitfulPlots\n",
    "plot(sol.t,sol[:])"
   ]
  },
  {
   "cell_type": "markdown",
   "metadata": {},
   "source": [
    "Notice that here we pulled the units for the label directly from the solution. Thus if the units change, the labels will change automatically."
   ]
  },
  {
   "cell_type": "markdown",
   "metadata": {},
   "source": [
    "## Other Solvers and Future Developments\n",
    "\n",
    "As of right now, the ODE solvers are the only solvers which are fully compatible with units. The SDE solvers will come shortly. For the FEM PDE solvers, the tooling is all compatible with units (i.e. you can make meshes with units, and most of the functions will work). However, the solver step is what's not compatible with units. The reason is because `\\` uses CHOLMOD which does not work with units, and sparse multiplication also is undefined for units. These facts are major stop gaps in development here. I believe it's not worth it to simply \"turn off\" units at that point because that is there area where one would wish to have units checked."
   ]
  }
 ],
 "metadata": {
  "kernelspec": {
   "display_name": "Julia 0.5.0-rc3",
   "language": "julia",
   "name": "julia-0.5"
  },
  "language_info": {
   "file_extension": ".jl",
   "mimetype": "application/julia",
   "name": "julia",
   "version": "0.6.0"
  }
 },
 "nbformat": 4,
 "nbformat_minor": 1
}
