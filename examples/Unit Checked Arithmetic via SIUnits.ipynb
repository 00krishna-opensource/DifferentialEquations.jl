{
 "cells": [
  {
   "cell_type": "markdown",
   "metadata": {},
   "source": [
    "# Unit Checked Arithmetic via SIUnits\n",
    "\n",
    "Units and dimensional analysis are standard tools across the sciences for checking the correctness of your equation. However, most ODE solvers only allow for the equation to be in dimensionless form, leaving it up to the user to both convert the equation to a dimensionless form, punch in the equations, and hopefully not make an error along the way.\n",
    "\n",
    "DifferentialEquations.jl instead allows for one to use SIUnits.jl to have unit-checked arithmetic natively in the solvers. Given the dispatch implementation of the SIUnits, this has little overhead.\n",
    "\n",
    "## Using SIUnits\n",
    "\n",
    "To use SIUnits, you need to have the package installed. Then you can add units to your variables. For example:"
   ]
  },
  {
   "cell_type": "code",
   "execution_count": 1,
   "metadata": {
    "collapsed": false
   },
   "outputs": [
    {
     "data": {
      "text/plain": [
       "1.5 s"
      ]
     },
     "execution_count": 1,
     "metadata": {},
     "output_type": "execute_result"
    }
   ],
   "source": [
    "using SIUnits\n",
    "t = 1.5Second"
   ]
  },
  {
   "cell_type": "markdown",
   "metadata": {},
   "source": [
    "Notice that `t` is a variable with units `Second`. If we make another value with seconds, they can add"
   ]
  },
  {
   "cell_type": "code",
   "execution_count": 2,
   "metadata": {
    "collapsed": false
   },
   "outputs": [
    {
     "data": {
      "text/plain": [
       "2.52 s"
      ]
     },
     "execution_count": 2,
     "metadata": {},
     "output_type": "execute_result"
    }
   ],
   "source": [
    "t2 = 1.02Second\n",
    "t+t2"
   ]
  },
  {
   "cell_type": "markdown",
   "metadata": {},
   "source": [
    "and they can multiply:"
   ]
  },
  {
   "cell_type": "code",
   "execution_count": 3,
   "metadata": {
    "collapsed": false
   },
   "outputs": [
    {
     "data": {
      "text/plain": [
       "1.53 s²"
      ]
     },
     "execution_count": 3,
     "metadata": {},
     "output_type": "execute_result"
    }
   ],
   "source": [
    "t*t2"
   ]
  },
  {
   "cell_type": "markdown",
   "metadata": {},
   "source": [
    "Many operations work, though note that rational exponents are not allowed by SIUnits.jl, and so operations like `sqrt` are not allowed. For a shorthand way of defining units, we can bring in another module from the same package:"
   ]
  },
  {
   "cell_type": "code",
   "execution_count": 4,
   "metadata": {
    "collapsed": false
   },
   "outputs": [
    {
     "data": {
      "text/plain": [
       "0.31 s"
      ]
     },
     "execution_count": 4,
     "metadata": {},
     "output_type": "execute_result"
    }
   ],
   "source": [
    "using SIUnits.ShortUnits\n",
    "y = 1.5N\n",
    "l = 0.31s"
   ]
  },
  {
   "cell_type": "markdown",
   "metadata": {},
   "source": [
    "Now `N` is a shorthand for `Newton` and `s` for `Second`. Note that this is not done automatically so that the namespace is not clogged. These operations will check to make sure units are correct, and will throw an error for incorrect operations:"
   ]
  },
  {
   "cell_type": "code",
   "execution_count": 5,
   "metadata": {
    "collapsed": false
   },
   "outputs": [
    {
     "ename": "LoadError",
     "evalue": "LoadError: Unit mismatch. Got (kg m s⁻²) + (s)\nwhile loading In[5], in expression starting on line 1",
     "output_type": "error",
     "traceback": [
      "LoadError: Unit mismatch. Got (kg m s⁻²) + (s)\nwhile loading In[5], in expression starting on line 1",
      "",
      " in +(::SIUnits.SIQuantity{Float64,1,1,-2,0,0,0,0,0,0}, ::SIUnits.SIQuantity{Float64,0,0,1,0,0,0,0,0,0}) at /home/crackauc/.julia/v0.5/SIUnits/src/SIUnits.jl:193",
      " in execute_request(::ZMQ.Socket, ::IJulia.Msg) at /home/crackauc/.julia/v0.5/IJulia/src/execute_request.jl:151",
      " in eventloop(::ZMQ.Socket) at /home/crackauc/.julia/v0.5/IJulia/src/eventloop.jl:8",
      " in (::IJulia.##9#15)() at ./task.jl:360"
     ]
    }
   ],
   "source": [
    "y+l"
   ]
  },
  {
   "cell_type": "markdown",
   "metadata": {},
   "source": [
    "## Using SIUnits with DifferentialEquations.jl\n",
    "\n",
    "Just like with other number systems, you can choose the units for your numbers by simply specifying the units of the initial condition and the timestep. For example, to solve the linear ODE where the variable has units of Newton's and `t` is in Seconds, we would use:"
   ]
  },
  {
   "cell_type": "code",
   "execution_count": 6,
   "metadata": {
    "collapsed": false
   },
   "outputs": [
    {
     "name": "stderr",
     "output_type": "stream",
     "text": [
      "INFO: Recompiling stale cache file /home/crackauc/.julia/lib/v0.5/DifferentialEquations.ji for module DifferentialEquations.\n",
      "WARNING: symbol is deprecated, use Symbol instead.\n",
      " in depwarn(::String, ::Symbol) at ./deprecated.jl:64\n",
      " in symbol(::String, ::Vararg{String,N}) at ./deprecated.jl:30\n",
      " in replace_t(::Expr) at /home/crackauc/.julia/v0.5/InplaceOps/src/InplaceOps.jl:97\n",
      " in collect_to!(::Array{Expr,1}, ::Base.Generator{Array{Any,1},InplaceOps.#replace_t}, ::Int64, ::Int64) at ./array.jl:337\n",
      " in collect(::Base.Generator{Array{Any,1},InplaceOps.#replace_t}) at ./array.jl:305\n",
      " in @into!(::Any) at /home/crackauc/.julia/v0.5/InplaceOps/src/InplaceOps.jl:120\n",
      " in macro expansion; at ./none:2 [inlined]\n",
      " in anonymous at ./<missing>:?\n",
      "while loading /home/crackauc/.julia/v0.5/DifferentialEquations/src/ode/ode_integrators.jl, in expression starting on line 4039\n"
     ]
    },
    {
     "ename": "LoadError",
     "evalue": "LoadError: Dimension mismatch in convert. Attempted to convert a (SIUnits.SIUnit{1,1,-2,0,0,0,0,0,0}) to (SIUnits.SIUnit{1,1,-3,0,0,0,0,0,0})\nwhile loading In[6], in expression starting on line 6",
     "output_type": "error",
     "traceback": [
      "LoadError: Dimension mismatch in convert. Attempted to convert a (SIUnits.SIUnit{1,1,-2,0,0,0,0,0,0}) to (SIUnits.SIUnit{1,1,-3,0,0,0,0,0,0})\nwhile loading In[6], in expression starting on line 6",
      "",
      " in convert(::Type{SIUnits.SIQuantity{Float64,1,1,-3,0,0,0,0,0,0}}, ::SIUnits.SIQuantity{Float64,1,1,-2,0,0,0,0,0,0}) at /home/crackauc/.julia/v0.5/SIUnits/src/SIUnits.jl:148",
      " in ode_solve(::DifferentialEquations.ODEIntegrator{:Midpoint,SIUnits.SIQuantity{Float64,1,1,-2,0,0,0,0,0,0},SIUnits.SIQuantity{Float64,1,1,-2,0,0,0,0,0,0},1,SIUnits.SIQuantity{Float64,0,0,1,0,0,0,0,0,0},Float64,SIUnits.SIQuantity{Float64,1,1,-3,0,0,0,0,0,0},SIUnits.SIQuantity{Float64,1,1,-3,0,0,0,0,0,0}}) at /home/crackauc/.julia/v0.5/DifferentialEquations/src/ode/ode_integrators.jl:107",
      " in #solve#559(::Array{Any,1}, ::Function, ::DifferentialEquations.ODEProblem{SIUnits.SIQuantity{Float64,1,1,-2,0,0,0,0,0,0},SIUnits.SIQuantity{Float64,1,1,-2,0,0,0,0,0,0}}, ::Array{Int64,1}) at /home/crackauc/.julia/v0.5/DifferentialEquations/src/ode/ode_solve.jl:190",
      " in (::DifferentialEquations.#kw##solve)(::Array{Any,1}, ::DifferentialEquations.#solve, ::DifferentialEquations.ODEProblem{SIUnits.SIQuantity{Float64,1,1,-2,0,0,0,0,0,0},SIUnits.SIQuantity{Float64,1,1,-2,0,0,0,0,0,0}}, ::Array{Int64,1}) at ./<missing>:0",
      " in execute_request(::ZMQ.Socket, ::IJulia.Msg) at /home/crackauc/.julia/v0.5/IJulia/src/execute_request.jl:151",
      " in eventloop(::ZMQ.Socket) at /home/crackauc/.julia/v0.5/IJulia/src/eventloop.jl:8",
      " in (::IJulia.##9#15)() at ./task.jl:360"
     ]
    }
   ],
   "source": [
    "using DifferentialEquations\n",
    "f = (t,y) -> 0.5*y\n",
    "u₀ = 1.5Newton\n",
    "prob = ODEProblem(f,u₀)\n",
    "\n",
    "sol =solve(prob::ODEProblem,[0,1],Δt=(1/2^4)Second,save_timeseries=true,alg=:Midpoint)"
   ]
  },
  {
   "cell_type": "markdown",
   "metadata": {},
   "source": [
    "Notice that we recieved a unit mismatch error. This is correctly so! Remember that for an ODE:\n",
    "\n",
    "$$ \\frac{dy}{dt} = f(t,y) $$\n",
    "\n",
    "we must have that `f` is a rate, i.e. `f` is a change in `y` per unit time. So we need to fix the units of `f` in our example to be `N/s`. Notice that we then do not receive an error if we do the following:"
   ]
  },
  {
   "cell_type": "code",
   "execution_count": 7,
   "metadata": {
    "collapsed": false
   },
   "outputs": [
    {
     "data": {
      "text/plain": [
       "DifferentialEquations.ODESolution, 17 timesteps, final value 1.7720353197843262 kg m s⁻²"
      ]
     },
     "execution_count": 7,
     "metadata": {},
     "output_type": "execute_result"
    }
   ],
   "source": [
    "f = (t,y) -> 0.5*y/3.0s\n",
    "prob = ODEProblem(f,u₀)\n",
    "\n",
    "sol =solve(prob::ODEProblem,[0,1],Δt=(1/2^4)Second,save_timeseries=true,alg=:Midpoint)"
   ]
  },
  {
   "cell_type": "markdown",
   "metadata": {},
   "source": [
    "This gives a a normal solution object. Notice that the values are all with the correct units:"
   ]
  },
  {
   "cell_type": "code",
   "execution_count": 8,
   "metadata": {
    "collapsed": false
   },
   "outputs": [
    {
     "name": "stdout",
     "output_type": "stream",
     "text": [
      "SIUnits.SIQuantity{Float64,1,1,-2,0,0,0,0,0,0}[1.5 kg m s⁻²,1.51571 kg m s⁻²,1.53158 kg m s⁻²,1.54761 kg m s⁻²,1.56382 kg m s⁻²,1.58019 kg m s⁻²,1.59674 kg m s⁻²,1.61346 kg m s⁻²,1.63035 kg m s⁻²,1.64742 kg m s⁻²,1.66467 kg m s⁻²,1.68211 kg m s⁻²,1.69972 kg m s⁻²,1.71752 kg m s⁻²,1.7355 kg m s⁻²,1.75367 kg m s⁻²,1.77204 kg m s⁻²]"
     ]
    }
   ],
   "source": [
    "print(sol.timeseries)"
   ]
  },
  {
   "cell_type": "markdown",
   "metadata": {},
   "source": [
    "We can plot the solution using the plot recipe. Note that normally you would have to strip the units in order to plot, but DifferentialEquations.jl does this for you:"
   ]
  },
  {
   "cell_type": "code",
   "execution_count": 11,
   "metadata": {
    "collapsed": false
   },
   "outputs": [
    {
     "name": "stderr",
     "output_type": "stream",
     "text": [
      "WARNING: Base.writemime is deprecated.\n",
      "  likely near /home/crackauc/.julia/v0.5/IJulia/src/kernel.jl:31\n",
      "WARNING: Base.writemime is deprecated.\n",
      "  likely near /home/crackauc/.julia/v0.5/IJulia/src/kernel.jl:31\n",
      "WARNING: Base.writemime is deprecated.\n",
      "  likely near /home/crackauc/.julia/v0.5/IJulia/src/kernel.jl:31\n"
     ]
    },
    {
     "data": {
      "text/html": [
       "<img src=\"data:image/png;base64,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\" />"
      ]
     },
     "execution_count": 11,
     "metadata": {},
     "output_type": "execute_result"
    },
    {
     "name": "stderr",
     "output_type": "stream",
     "text": [
      "sys:1: MatplotlibDeprecationWarning: The set_axis_bgcolor function was deprecated in version 2.0. Use set_facecolor instead.\n"
     ]
    }
   ],
   "source": [
    "plot(sol,yguide=\"Force ($(string(SIUnits.unit(sol.u))))\",xguide=\"Time ($(string(SIUnits.unit(sol.t[1]))))\",denseplot=false)"
   ]
  },
  {
   "cell_type": "markdown",
   "metadata": {},
   "source": [
    "Notice that here we pulled the units for the label directly from the solution. Thus if the units change, the labels will change automatically."
   ]
  },
  {
   "cell_type": "markdown",
   "metadata": {},
   "source": [
    "## Other Solvers and Future Developments\n",
    "\n",
    "As of right now, the ODE solvers are the only solvers which are fully compatible with units. The SDE solvers require there be rational coefficients for units since the natural time units for Brownian motion are $s^{(\\frac12)}$ Since SIUnits do not support this, it will likely not be possible unless there is a change on their end. For the FEM PDE solvers, the tooling is all compatible with units (i.e. you can make meshes with units, and most of the functions will work). However, the solver step is what's not compatible with units. The reason is because `\\` uses CHOLMOD which does not work with units, and sparse multiplication also is undefined for units. These facts are major stop gaps in development here. I believe it's not worth it to simply \"turn off\" units at that point because that is there area where one would wish to have units checked.\n",
    "\n",
    "One avenue of further development is Unitful.jl. I am currently in contact with the developer of Unitful to add compatibility to DifferentialEquations.jl (with what has already been done, that should almost come for free). Since these units allow for rational coefficients, the SDE solvers will be compatible as well. These units allow for non SI units and will do the conversions, something that could make many scientists lives easier. If you have any more feature suggestions, please file an issue or feel free to discuss this in the Gitter chatroom."
   ]
  }
 ],
 "metadata": {
  "kernelspec": {
   "display_name": "Julia 0.5.0-rc3",
   "language": "julia",
   "name": "julia-0.5"
  },
  "language_info": {
   "file_extension": ".jl",
   "mimetype": "application/julia",
   "name": "julia",
   "version": "0.5.0"
  }
 },
 "nbformat": 4,
 "nbformat_minor": 1
}
