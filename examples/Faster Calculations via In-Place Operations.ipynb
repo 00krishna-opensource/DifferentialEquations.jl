{
 "cells": [
  {
   "cell_type": "markdown",
   "metadata": {},
   "source": [
    "## Faster Calculations Via In-Place Operations\n",
    "\n",
    "In this tutorial you will learn how to define your problems in the in-place style in order to increase your performance. First, a bit of an introduction. When solving large systems of equations, one of the largest performance hits comes from memory allocation, i.e. making arrays. Although DifferentialEquations.jl has been painstakingly optimized to prevent allocations within its solvers, allocations can also occur due to the user chosen function.\n",
    "\n",
    "Obviously using a command like `arr = Vector{Float64}(500)` inside of your function will cause an allocation. However, there are many cases which are more subtle, for example `A.*B.*C + sin(3D)` will have make a temporary array to save the output of `A.*B`, and then use that to multiply `C`, etc. Julia's core devs are optimizing the compiler to automatically reduce allocations in events like these, though you should be careful to double-check and try devectorizing to see if it reduces allocations.\n",
    "\n",
    "However, in-place function calls are designed to reduce an allocation that is due to an array that is returned from a function. For example, if we define a function `f(u,t) = u.*zeros(4)*t`, then if we have a pre-allocated vector `k = Vector{Float64}(4)`, we may wish to have the output of `f` write directly to `k`. But the standard way, `k = f(u,t)`, will first make an array inside of `f`, and then copy it over.\n",
    "\n",
    "But with an in-place function, a user can get rid of that allocation. Using the in-place syntax, a user could instead define `f(du,u,t) = (du[:] = u.*zeros(4)*t)`. Notice that in this case, `du` is the output of the function, and it is given to the function, and within the function you simply write all of your output to `du`. Then to use this function without allocating arrays, someone (DifferentialEquations.jl) can call `f(k,u,t)` which will replace the values of `k` with the values of `u.*zeros(4)*t`. By doing this, there is no array that had to be allocated, saving precious time and speeding up our calculations!\n",
    "\n",
    "## Example\n",
    "\n",
    "Let's demonstrate this using DifferentialEquations.jl. All of the ODE and SDE solvers provided by DifferentialEquations.jl allow for the given function to be in-place. In fact, if you give DifferentialEquations.jl a function which is not in-place, it does an auto-conversion to an in-place function (which is still not as optimal as you can make yourself). Let's define a problem which holds the data for the famous [Lorenz System](https://en.wikipedia.org/wiki/Lorenz_system)."
   ]
  },
  {
   "cell_type": "code",
   "execution_count": null,
   "metadata": {
    "collapsed": false
   },
   "outputs": [],
   "source": [
    "using DifferentialEquations\n",
    "σ=10.; ρ=28.; β=8//3; u₀=ones(3)\n",
    "f₁(t,u) = σ*(u[2]-u[1])\n",
    "f₂(t,u) = u[1]*(ρ-u[3]) - u[2]\n",
    "f₃(t,u) = u[1]*u[2] - β*u[3]\n",
    "f = (t,u) -> [f₁(t,u);f₂(t,u);f₃(t,u)]\n",
    "prob = ODEProblem(f,u₀)"
   ]
  },
  {
   "cell_type": "markdown",
   "metadata": {},
   "source": [
    "What we did was create a function `f` which returns a vector `[f1 f2 f3]`. This is the standard way to define such an `f`, and one would get the output of `f` as `output=f(u,t)`. Let's also define the problem using an in-place function:"
   ]
  },
  {
   "cell_type": "code",
   "execution_count": null,
   "metadata": {
    "collapsed": false
   },
   "outputs": [],
   "source": [
    "function g(t,u,du)\n",
    "    du[1] = σ*(u[2]-u[1])\n",
    "    du[2] = u[1]*(ρ-u[3]) - u[2]\n",
    "    du[3] = u[1]*u[2] - β*u[3]\n",
    "end\n",
    "prob2 = ODEProblem(g,u₀)"
   ]
  },
  {
   "cell_type": "markdown",
   "metadata": {},
   "source": [
    "Notice that `du` is essentially just a storage for the output. You can be more fancy with it, though in many cases this works very efficiently. Let's see the difference between the two solutions:"
   ]
  },
  {
   "cell_type": "code",
   "execution_count": null,
   "metadata": {
    "collapsed": false
   },
   "outputs": [],
   "source": [
    "# Run once to compile\n",
    "sol =solve(prob::ODEProblem,[0,1];Δt=1//2^(4),save_timeseries=false,alg=:RK4) \n",
    "sol2 =solve(prob2::ODEProblem,[0,1];Δt=1//2^(4),save_timeseries=false,alg=:RK4)\n",
    "# Time the second run\n",
    "@time sol =solve(prob::ODEProblem,[0,1];Δt=1//2^(6),save_timeseries=false,alg=:RK4)\n",
    "@time sol2 =solve(prob2::ODEProblem,[0,1];Δt=1//2^(6),save_timeseries=false,alg=:RK4);"
   ]
  },
  {
   "cell_type": "code",
   "execution_count": 4,
   "metadata": {
    "collapsed": false
   },
   "outputs": [
    {
     "name": "stdout",
     "output_type": "stream",
     "text": [
      "115008\n",
      "90304\n"
     ]
    }
   ],
   "source": [
    "println(@allocated sol =solve(prob::ODEProblem,[0,1];Δt=1//2^(6),save_timeseries=false,alg=:RK4))\n",
    "println(@allocated sol2 =solve(prob2::ODEProblem,[0,1];Δt=1//2^(6),save_timeseries=false,alg=:RK4))"
   ]
  },
  {
   "cell_type": "markdown",
   "metadata": {},
   "source": [
    "Because the computer has to spend less time searching for free memory, on avarage the one with less allocations will be faster. For an array of size 3, it's not that big of a deal, but as the arrays grow larger, the has a bigger and bigger effect. Also, as the number of function calls per step grows, like is the case for higher order methods, this becomes more of an issue. Therefore it's recommended that you supply DifferentialEquations.jl with an in-place function if you would like the best performance."
   ]
  },
  {
   "cell_type": "markdown",
   "metadata": {},
   "source": [
    "### Using the Function Definition Macro\n",
    "\n",
    "Note that using the function defintion macros will automatically make an in-place function. For example, to define the previous problem using the `@ode_define` macro, one would use the code:"
   ]
  },
  {
   "cell_type": "code",
   "execution_count": 7,
   "metadata": {
    "collapsed": false
   },
   "outputs": [
    {
     "data": {
      "text/plain": [
       "DifferentialEquations.ODEProblem{Array{Float64,1},Float64}(#9,[1.0,1.0,1.0],DifferentialEquations.#236,false,3,true)"
      ]
     },
     "execution_count": 7,
     "metadata": {},
     "output_type": "execute_result"
    }
   ],
   "source": [
    "f = @ode_define begin\n",
    "  dx = σ*(y-x)\n",
    "  dy = x*(ρ-z) - y\n",
    "  dz = x*y - β*z\n",
    "end σ=>10. ρ=>28. β=>(8/3)\n",
    "u₀=ones(3)\n",
    "prob = ODEProblem(f,u₀)"
   ]
  },
  {
   "cell_type": "markdown",
   "metadata": {},
   "source": [
    "The `@ode_define` macro will translate this more \"mathematical definition to the previous \"computer definition\" with in-place updates, `u[1]` as `x`, `du[1]` as `dx`, etc."
   ]
  }
 ],
 "metadata": {
  "kernelspec": {
   "display_name": "Julia 0.5.0-rc3",
   "language": "julia",
   "name": "julia-0.5"
  },
  "language_info": {
   "file_extension": ".jl",
   "mimetype": "application/julia",
   "name": "julia",
   "version": "0.5.0"
  }
 },
 "nbformat": 4,
 "nbformat_minor": 0
}
