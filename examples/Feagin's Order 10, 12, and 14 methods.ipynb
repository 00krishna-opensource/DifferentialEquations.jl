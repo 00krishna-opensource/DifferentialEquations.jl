{
 "cells": [
  {
   "cell_type": "markdown",
   "metadata": {},
   "source": [
    "# Feagin's Order 10, 12, and 14 Methods\n",
    "\n",
    "DifferentialEquations.jl includes Feagin's explicit Runge-Kutta methods of orders 10/8, 12/10, and 14/12. These methods have such high order that it's pretty much required that one uses numbers with more precision than Float64. As a prerequisite reference on how to use arbitrary number systems (including higher precision) in the numerical solvers, please see the Solving Equations in With Chosen Number Types notebook."
   ]
  },
  {
   "cell_type": "markdown",
   "metadata": {},
   "source": [
    "## Investigation of the Method's Error\n",
    "\n",
    "We can use Feagin's order 16 method as follows. Let's use the twoDimlinearODEExample from previous examples. Like in the Solving Equations in With Chosen Number Types notebook, we change the initial condition to BigFloats to tell the solver to use BigFloat types."
   ]
  },
  {
   "cell_type": "code",
   "execution_count": 23,
   "metadata": {
    "collapsed": false
   },
   "outputs": [],
   "source": [
    "using DifferentialEquations\n",
    "prob = twoDimlinearODEExample(α=ones(BigFloat,4,2),u₀=map(BigFloat,rand(4,2)).*ones(4,2)/2)\n",
    "sol =solve(prob::ODEProblem,Δt=1//16,alg=:Feagin14,adaptive=false);"
   ]
  },
  {
   "cell_type": "markdown",
   "metadata": {},
   "source": [
    "Let's print the errors and find out how accurate it is:"
   ]
  },
  {
   "cell_type": "code",
   "execution_count": 24,
   "metadata": {
    "collapsed": false
   },
   "outputs": [
    {
     "name": "stdout",
     "output_type": "stream",
     "text": [
      "Dict(:l∞=>1.068447416044847995153951815667497622158599400262425431935379392038731834474638e-23,:final=>5.864524355090247017965494838083295718647660536333265288958331216674935185099171e-24,:l2=>3.284324318110724241546644303457557201807515293900243891513074242871624143202249e-24)"
     ]
    }
   ],
   "source": [
    "print(sol.errors)"
   ]
  },
  {
   "cell_type": "markdown",
   "metadata": {},
   "source": [
    "Compare that to machine $\\epsilon$ for Float64:"
   ]
  },
  {
   "cell_type": "code",
   "execution_count": 8,
   "metadata": {
    "collapsed": false
   },
   "outputs": [
    {
     "data": {
      "text/plain": [
       "2.220446049250313e-16"
      ]
     },
     "execution_count": 8,
     "metadata": {},
     "output_type": "execute_result"
    }
   ],
   "source": [
    "eps(Float64)"
   ]
  },
  {
   "cell_type": "markdown",
   "metadata": {},
   "source": [
    "The error for Feagin's method when the stepsize is 1/16 is 8 orders of magnitude below machine $\\epsilon$! However, that is dependent on the stepsize. If we instead use adaptive timestepping with the default tolerances [and set the internalnorm=1 to avoid [this issue](https://github.com/JuliaLang/julia/issues/17728)], we get"
   ]
  },
  {
   "cell_type": "code",
   "execution_count": 22,
   "metadata": {
    "collapsed": false
   },
   "outputs": [
    {
     "name": "stdout",
     "output_type": "stream",
     "text": [
      "Dict(:l∞=>5.801079887044034925501010902839807528274531536176388596639490179927086540236457e-01,:final=>3.712067380360646564271528475755090491548152659265300874046301204290046476491424e-01,:l2=>1.923369284386002215322244764769691922687112963476072043780302286755884157640694e-01)\n",
      "The length was 7"
     ]
    }
   ],
   "source": [
    "sol =solve(prob::ODEProblem,Δt=Δts[1],alg=:Feagin14,adaptive=true,internalnorm=1); \n",
    "println(sol.errors); print(\"The length was $(length(sol))\")"
   ]
  },
  {
   "cell_type": "markdown",
   "metadata": {},
   "source": [
    "Notice that when the stepsize is much higher, the error goes up quickly as well. These super high order methods are best when used to gain really accurate approximations (using still modest timesteps). Some examples of where such precision is necessary is astrodynamics where the many-body problem is highly chaotic and thus sensitive to small errors."
   ]
  },
  {
   "cell_type": "markdown",
   "metadata": {},
   "source": [
    "## Convergence Test\n",
    "\n",
    "The Order 14 method is awesome, but we need to make sure it's really that awesome. The following convergence test is used in the package tests in order to make sure the implementation is correct. Note that all methods have such tests in place."
   ]
  },
  {
   "cell_type": "code",
   "execution_count": 29,
   "metadata": {
    "collapsed": false
   },
   "outputs": [
    {
     "data": {
      "text/plain": [
       "DifferentialEquations.ConvergenceSimulation of length 7.\n",
       "Convergence Estimates: (l∞,14.290261124780194) (final,14.290261124780194) (l2,14.29968233607698)"
      ]
     },
     "execution_count": 29,
     "metadata": {},
     "output_type": "execute_result"
    }
   ],
   "source": [
    "Δts = 1.//2.^(10:-1:4)\n",
    "sim = test_convergence(Δts,prob,alg=:Feagin14)"
   ]
  },
  {
   "cell_type": "markdown",
   "metadata": {},
   "source": [
    "For a better view of what's going on, let's plot the simulation results."
   ]
  },
  {
   "cell_type": "code",
   "execution_count": 31,
   "metadata": {
    "collapsed": false
   },
   "outputs": [
    {
     "data": {
      "text/html": [
       "<script src=\"C:\\Users\\Chris\\.julia\\v0.4\\Plots\\deps\\plotly-latest.min.js\"></script>    <div id=\"f9e3714e-6161-4e07-917b-573d518f6730\" style=\"width:600px;height:400px;\"></div>\n",
       "    <script>\n",
       "    PLOT = document.getElementById('f9e3714e-6161-4e07-917b-573d518f6730');\n",
       "    Plotly.plot(PLOT, [{\"yaxis\":\"y\",\"y\":[1.6518464963512359e-49,2.5037006734448477e-45,3.440551514208021e-41,3.4866188711682542e-37,1.2217567459146364e-33,2.4001698785322916e-28,1.068447416044848e-23],\"showlegend\":true,\"name\":[\"l∞\",\"final\",\"l2\"],\"type\":\"scatter\",\"xaxis\":\"x\",\"line\":{\"width\":1,\"dash\":\"solid\",\"color\":\"rgba(0, 154, 250, 1.000)\",\"shape\":\"linear\"},\"x\":[0.0009765625,0.001953125,0.00390625,0.0078125,0.015625,0.03125,0.0625],\"mode\":\"lines\"},{\"yaxis\":\"y\",\"y\":[9.066701704967849e-50,1.3742382972506382e-45,1.888459632829383e-41,1.913745213833267e-37,6.7060129350450315e-34,1.3174120221201218e-28,5.864524355090247e-24],\"showlegend\":true,\"name\":[\"l∞\",\"final\",\"l2\"],\"type\":\"scatter\",\"xaxis\":\"x\",\"line\":{\"width\":1,\"dash\":\"solid\",\"color\":\"rgba(227, 111, 71, 1.000)\",\"shape\":\"linear\"},\"x\":[0.0009765625,0.001953125,0.00390625,0.0078125,0.015625,0.03125,0.0625],\"mode\":\"lines\"},{\"yaxis\":\"y\",\"y\":[4.882544005683629e-50,7.405202384773639e-46,1.0189148673420837e-41,1.0351941196873126e-37,3.6458984874892598e-34,7.234648572443917e-29,3.2843243181107243e-24],\"showlegend\":true,\"name\":[\"l∞\",\"final\",\"l2\"],\"type\":\"scatter\",\"xaxis\":\"x\",\"line\":{\"width\":1,\"dash\":\"solid\",\"color\":\"rgba(62, 164, 78, 1.000)\",\"shape\":\"linear\"},\"x\":[0.0009765625,0.001953125,0.00390625,0.0078125,0.015625,0.03125,0.0625],\"mode\":\"lines\"}], {\"yaxis\":{\"type\":\"log\",\"titlefont\":{\"size\":15,\"color\":\"rgba(0, 0, 0, 1.000)\",\"family\":\"Helvetica\"},\"title\":\"Error\",\"tickfont\":{\"size\":11,\"color\":\"rgba(0, 0, 0, 1.000)\",\"family\":\"Helvetica\"},\"tickmode\":\"array\",\"showgrid\":true,\"tickvals\":[1.0e-40,1.0e-30],\"domain\":[0.09549978127734039,0.9901574803149606],\"ticktext\":[\"10^-40\",\"10^-30\"],\"zeroline\":false,\"linecolor\":\"rgba(0, 0, 0, 1.000)\",\"tickcolor\":\"rgba(0, 0, 0, 1.000)\",\"anchor\":\"x\"},\"annotations\":[],\"width\":600,\"plot_bgcolor\":\"rgba(255, 255, 255, 1.000)\",\"showlegend\":true,\"legend\":{\"bgcolor\":\"rgba(255, 255, 255, 1.000)\",\"font\":{\"size\":11,\"color\":\"rgba(0, 0, 0, 1.000)\",\"family\":\"Helvetica\"},\"bordercolor\":\"rgba(0, 0, 0, 1.000)\"},\"xaxis\":{\"type\":\"log\",\"titlefont\":{\"size\":15,\"color\":\"rgba(0, 0, 0, 1.000)\",\"family\":\"Helvetica\"},\"title\":\"Convergence Axis\",\"tickfont\":{\"size\":11,\"color\":\"rgba(0, 0, 0, 1.000)\",\"family\":\"Helvetica\"},\"tickmode\":\"array\",\"showgrid\":true,\"tickvals\":[0.001,0.01],\"domain\":[0.08451808107319918,0.9934383202099737],\"ticktext\":[\"10^-3\",\"10^-2\"],\"zeroline\":false,\"linecolor\":\"rgba(0, 0, 0, 1.000)\",\"tickcolor\":\"rgba(0, 0, 0, 1.000)\",\"anchor\":\"y\"},\"paper_bgcolor\":\"rgba(255, 255, 255, 1.000)\",\"height\":400,\"margin\":{\"r\":0,\"l\":0,\"b\":0,\"t\":20}});\n",
       "    </script>\n"
      ]
     },
     "execution_count": 31,
     "metadata": {},
     "output_type": "execute_result"
    }
   ],
   "source": [
    "plot(sim)"
   ]
  },
  {
   "cell_type": "markdown",
   "metadata": {},
   "source": [
    "This is a clear trend indicating that the convergence is truely Order 14. "
   ]
  }
 ],
 "metadata": {
  "kernelspec": {
   "display_name": "Julia 0.4.6",
   "language": "julia",
   "name": "julia-0.4"
  },
  "language_info": {
   "file_extension": ".jl",
   "mimetype": "application/julia",
   "name": "julia",
   "version": "0.4.6"
  }
 },
 "nbformat": 4,
 "nbformat_minor": 0
}
