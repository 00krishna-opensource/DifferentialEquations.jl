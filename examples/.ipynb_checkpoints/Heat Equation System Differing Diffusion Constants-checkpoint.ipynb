{
 "cells": [
  {
   "cell_type": "markdown",
   "metadata": {
    "collapsed": true
   },
   "source": [
    "# Heat Equation System: Differing Diffusion Constants\n",
    "\n",
    "In this problem we will define a system of Heat equations where the two variables do not interact, but have different diffusion constants (for an example which shows interactions between variables, see the Gierer-Meinhardt example). We will solve the Heat Equation with no forcing term ($f\\equiv0$) with $\\delta(x-.5)$ as the starting distribution where $\\delta$ is the Dirac-$\\delta$ distribution. One example where this equation shows up is in modeling the dispersion of a protein throughout a biological organism. If you let the concentration of the protein be the variable, then it diffuses a la the Heat Equation with no forcing, and if all of the protein started at one spot, that would be represented by the Dirac-$\\delta$.\n",
    "\n",
    "To define the problem, we use the following syntax. Note that this example is provided by DifferentialEquations.jl in the file `/premades/premade_problems.jl` and thus the following cell does not need to be run:"
   ]
  },
  {
   "cell_type": "code",
   "execution_count": null,
   "metadata": {
    "collapsed": true
   },
   "outputs": [],
   "source": [
    "\"Example problem which solves the homogeneous Heat equation with all mass starting at (1/2,1/2) with two different diffusion constants.\"\n",
    "function heatProblemExample_diffusionconstants(;D=[.01 .001],max=1)\n",
    "  f₁(u,x,t)  = zeros(size(x,1))\n",
    "  f₂(u,x,t)  = zeros(size(x,1))\n",
    "  f(u,x,t) = [f₁(u,x,t) f₂(u,x,t)]\n",
    "  u₀(x) = [max*float((abs(x[:,1]-.5) .< 1e-6) & (abs(x[:,2]-.5) .< 1e-6)) max*float((abs(x[:,1]-.5) .< 1e-6) & (abs(x[:,2]-.5) .< 1e-6))]  # size (x,2), 2 meaning 2 variables\n",
    "  return(HeatProblem(u₀,f,D=D))\n",
    "end"
   ]
  },
  {
   "cell_type": "markdown",
   "metadata": {},
   "source": [
    "Note that `max*float((abs(x[:,1]-.5) .< 1e-6) & (abs(x[:,2]-.5) .< 1e-6))` is used to say that, since `x[:,1]` is $x$ and `abs(x[:,2]` is $y$, set the values more than $10^{-6}$ away from $(0.5,0.5)$ to zero, effectively approximating the Dirac-$\\delta$. We then solve the equation on a square mesh with Neumann boundary conditions. These Neumann boundary conditions, also known as reflective boundary conditions, could represent a barrier that the proteins cannot cross. Thus the solution can be animated as follows: (note: this may take a awhile to run)"
   ]
  },
  {
   "cell_type": "code",
   "execution_count": 1,
   "metadata": {
    "collapsed": false
   },
   "outputs": [
    {
     "name": "stdout",
     "output_type": "stream",
     "text": [
      "[DifferentialEquations.jl] Initializing backend: NLsolve\n",
      "[Plots.jl] Initializing backend: pyplot\n"
     ]
    },
    {
     "name": "stderr",
     "output_type": "stream",
     "text": [
      "sys:1: MatplotlibDeprecationWarning: The set_axis_bgcolor function was deprecated in version 2.0. Use set_facecolor instead.\n",
      "INFO: Saved animation to /home/crackauc/.julia/v0.4/DifferentialEquations/examples/diffconsts.gif\n"
     ]
    },
    {
     "data": {
      "text/html": [
       "<img src=\"diffconsts.gif?0.8587732423336594>\" />"
      ],
      "text/plain": [
       "Plots.AnimatedGif(\"/home/crackauc/.julia/v0.4/DifferentialEquations/examples/diffconsts.gif\")"
      ]
     },
     "execution_count": 1,
     "metadata": {},
     "output_type": "execute_result"
    }
   ],
   "source": [
    "using DifferentialEquations, Plots\n",
    "T = 30\n",
    "Δx = 1//2^(4)\n",
    "Δt = 1//2^(2)\n",
    "femMesh = parabolic_squaremesh([0 1 0 1],Δx,Δt,T,:neumann)\n",
    "prob = heatProblemExample_diffusionconstants()\n",
    "\n",
    "sol = solve(femMesh::FEMmesh,prob::HeatProblem,alg=:ImplicitEuler,save_timeseries=true,timeseries_steps=1)\n",
    "animate(sol,zlim=(0,.01),cbar=false,filename=\"diffconsts.gif\")"
   ]
  },
  {
   "cell_type": "markdown",
   "metadata": {},
   "source": [
    "From the animation it's clear that this difference in diffusion constants quickly leads to a large difference in the solution. However, if we let the solution go long enough, they will both spread out evenly inside of the two-dimensional container and reach the same steady state."
   ]
  }
 ],
 "metadata": {
  "kernelspec": {
   "display_name": "Julia 0.4.5",
   "language": "julia",
   "name": "julia-0.4"
  },
  "language_info": {
   "file_extension": ".jl",
   "mimetype": "application/julia",
   "name": "julia",
   "version": "0.4.5"
  }
 },
 "nbformat": 4,
 "nbformat_minor": 0
}
