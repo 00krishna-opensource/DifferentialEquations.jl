{
 "cells": [
  {
   "cell_type": "markdown",
   "metadata": {
    "collapsed": true
   },
   "source": [
    "# Heat Equation System: Differing Diffusion Constants\n",
    "\n",
    "In this problem we will define a system of Heat equations where the two variables do not interact, but have different diffusion constants (for an example which shows interactions between variables, see the Gierer-Meinhardt example). We will solve the Heat Equation with no forcing term ($f\\equiv0$) with $\\delta(x-.5)$ as the starting distribution where $\\delta$ is the Dirac-$\\delta$ distribution. One example where this equation shows up is in modeling the dispersion of a protein throughout a biological organism. If you let the concentration of the protein be the variable, then it diffuses a la the Heat Equation with no forcing, and if all of the protein started at one spot, that would be represented by the Dirac-$\\delta$.\n",
    "\n",
    "To define the problem, we use the following syntax. Note that this example is provided by DifferentialEquations.jl in the file `/premades/premade_problems.jl` and thus the following cell does not need to be run:"
   ]
  },
  {
   "cell_type": "code",
   "execution_count": null,
   "metadata": {
    "collapsed": true
   },
   "outputs": [],
   "source": [
    "\"Example problem which solves the homogeneous Heat equation with all mass starting at (1/2,1/2) with two different diffusion constants.\"\n",
    "f = (t,x,u)  -> [zeros(size(x,1))    zeros(size(x,1))]\n",
    "u₀ = (x) -> [float((abs(x[:,1]-.5) .< 1e-6) & (abs(x[:,2]-.5) .< 1e-6)) float((abs(x[:,1]-.5) .< 1e-6) & (abs(x[:,2]-.5) .< 1e-6))]  # size (x,2), 2 meaning 2 variables\n",
    "\"Example problem which solves the homogeneous Heat equation with all mass starting at (1/2,1/2) with two different diffusion constants.\"\n",
    "prob_femheat_diffusionconstants = HeatProblem(u₀,f,D=[.01 .001])"
   ]
  },
  {
   "cell_type": "markdown",
   "metadata": {},
   "source": [
    "Note that `max*float((abs(x[:,1]-.5) .< 1e-6) & (abs(x[:,2]-.5) .< 1e-6))` is used to say that, since `x[:,1]` is $x$ and `abs(x[:,2]` is $y$, set the values more than $10^{-6}$ away from $(0.5,0.5)$ to zero, effectively approximating the Dirac-$\\delta$. We then solve the equation on a square mesh with Neumann boundary conditions. These Neumann boundary conditions, also known as reflective boundary conditions, could represent a barrier that the proteins cannot cross. Thus the solution can be animated as follows: (note: this may take a awhile to run)"
   ]
  },
  {
   "cell_type": "code",
   "execution_count": 3,
   "metadata": {
    "collapsed": false
   },
   "outputs": [
    {
     "name": "stderr",
     "output_type": "stream",
     "text": [
      "INFO: Saved animation to /home/crackauc/.julia/v0.5/DifferentialEquations/examples/diffconsts.gif\n"
     ]
    },
    {
     "data": {
      "text/html": [
       "<img src=\"diffconsts.gif?0.5094152059047474>\" />"
      ],
      "text/plain": [
       "Plots.AnimatedGif(\"/home/crackauc/.julia/v0.5/DifferentialEquations/examples/diffconsts.gif\")"
      ]
     },
     "execution_count": 3,
     "metadata": {},
     "output_type": "execute_result"
    }
   ],
   "source": [
    "using DifferentialEquations, Plots\n",
    "T = 30\n",
    "Δx = 1//2^(4)\n",
    "Δt = 1//2^(2)\n",
    "femMesh = parabolic_squaremesh([0 1 0 1],Δx,Δt,T,:neumann)\n",
    "prob = prob_femheat_diffusionconstants\n",
    "\n",
    "sol = solve(femMesh::FEMmesh,prob::HeatProblem,alg=:ImplicitEuler,save_timeseries=true,timeseries_steps=1)\n",
    "animate(sol,zlim=(0,.01),cbar=false,filename=\"diffconsts.gif\")"
   ]
  },
  {
   "cell_type": "markdown",
   "metadata": {},
   "source": [
    "From the animation it's clear that this difference in diffusion constants quickly leads to a large difference in the solution. However, if we let the solution go long enough, they will both spread out evenly inside of the two-dimensional container and reach the same steady state."
   ]
  }
 ],
 "metadata": {
  "kernelspec": {
   "display_name": "Julia 0.5.0-rc3",
   "language": "julia",
   "name": "julia-0.5"
  },
  "language_info": {
   "file_extension": ".jl",
   "mimetype": "application/julia",
   "name": "julia",
   "version": "0.5.0"
  }
 },
 "nbformat": 4,
 "nbformat_minor": 0
}
