{
 "cells": [
  {
   "cell_type": "markdown",
   "metadata": {},
   "source": [
    "In this example we will show how to animate the solution to the Heat Equation. We will use the Birth-Death process that is defined in `/src/premades/premade_problems.jl` as:"
   ]
  },
  {
   "cell_type": "code",
   "execution_count": 1,
   "metadata": {
    "collapsed": false
   },
   "outputs": [
    {
     "data": {
      "text/plain": [
       "heatProblemExample_stochasticbirthdeath (generic function with 1 method)"
      ]
     },
     "execution_count": 1,
     "metadata": {},
     "output_type": "execute_result"
    }
   ],
   "source": [
    "\"Example problem which starts with 0 and solves with ``f(u)=1-u/2`` with noise ``σ(u)=10u^2``\"\n",
    "function heatProblemExample_stochasticbirthdeath()\n",
    "  f(u,x,t)  = ones(size(x,1)) - .5u\n",
    "  u₀(x) = zeros(size(x,1))\n",
    "  σ(u,x,t) = 1u.^2\n",
    "  return(HeatProblem(u₀,f,σ=σ))\n",
    "end"
   ]
  },
  {
   "cell_type": "markdown",
   "metadata": {},
   "source": [
    "As in the other cases, we define our problem, our mesh, and our timestepping as follows:"
   ]
  },
  {
   "cell_type": "code",
   "execution_count": 2,
   "metadata": {
    "collapsed": false
   },
   "outputs": [
    {
     "name": "stderr",
     "output_type": "stream",
     "text": [
      "WARNING: using DifferentialEquations.heatProblemExample_stochasticbirthdeath in module Main conflicts with an existing identifier.\n"
     ]
    },
    {
     "data": {
      "text/plain": [
       "DifferentialEquations.HeatProblem(u₀,(anonymous function),f,nothing,nothing,(anonymous function),false,false,0,σ,true,:White,nothing)"
      ]
     },
     "execution_count": 2,
     "metadata": {},
     "output_type": "execute_result"
    }
   ],
   "source": [
    "using DifferentialEquations, Plots, ImageMagick\n",
    "T = 5\n",
    "Δx = 1//2^(3)\n",
    "Δt = 1//2^(11)\n",
    "fem_mesh = parabolic_squaremesh([0 1 0 1],Δx,Δt,T,:neumann)\n",
    "prob = heatProblemExample_stochasticbirthdeath()"
   ]
  },
  {
   "cell_type": "markdown",
   "metadata": {},
   "source": [
    "(Note: you get a warning if you ran the first cell because the function `heatProblemExample_stochasticbirthdeath()` is pre-defined in DifferentialEquations.jl for testing purposes.) As with other differential equation problems, we solve and plot the same way, giving arguments to the solver to specify some behavior. Here we wish to solve the equation using a Forward Euler method. Note that by default the PDE solvers do not save the timeseries (this is because, in many cases, it can use a lot of memory!). However, we can turn that on by using a keyword flag as well. Thus we solve the equation with:"
   ]
  },
  {
   "cell_type": "code",
   "execution_count": 4,
   "metadata": {
    "collapsed": false
   },
   "outputs": [
    {
     "data": {
      "text/plain": [
       "DifferentialEquations.FEMSolution(DifferentialEquations.FEMmesh(81x2 Array{Rational{Int64},2}:\n",
       " 0//1  0//1\n",
       " 0//1  1//8\n",
       " 0//1  1//4\n",
       " 0//1  3//8\n",
       " 0//1  1//2\n",
       " 0//1  5//8\n",
       " 0//1  3//4\n",
       " 0//1  7//8\n",
       " 0//1  1//1\n",
       " 1//8  0//1\n",
       " 1//8  1//8\n",
       " 1//8  1//4\n",
       " 1//8  3//8\n",
       "  ⋮        \n",
       " 7//8  3//4\n",
       " 7//8  7//8\n",
       " 7//8  1//1\n",
       " 1//1  0//1\n",
       " 1//1  1//8\n",
       " 1//1  1//4\n",
       " 1//1  3//8\n",
       " 1//1  1//2\n",
       " 1//1  5//8\n",
       " 1//1  3//4\n",
       " 1//1  7//8\n",
       " 1//1  1//1,128x3 Array{Int64,2}:\n",
       " 10  11   1\n",
       " 11  12   2\n",
       " 12  13   3\n",
       " 13  14   4\n",
       " 14  15   5\n",
       " 15  16   6\n",
       " 16  17   7\n",
       " 17  18   8\n",
       " 19  20  10\n",
       " 20  21  11\n",
       " 21  22  12\n",
       " 22  23  13\n",
       " 23  24  14\n",
       "  ⋮        \n",
       " 60  59  69\n",
       " 61  60  70\n",
       " 62  61  71\n",
       " 63  62  72\n",
       " 65  64  74\n",
       " 66  65  75\n",
       " 67  66  76\n",
       " 68  67  77\n",
       " 69  68  78\n",
       " 70  69  79\n",
       " 71  70  80\n",
       " 72  71  81,Int64[],[1,2,3,4,5,6,7,8,9,10  …  72,73,74,75,76,77,78,79,80,81],32x2 Array{Int64,2}:\n",
       "  1   2\n",
       "  2   3\n",
       "  3   4\n",
       "  4   5\n",
       "  5   6\n",
       "  6   7\n",
       "  7   8\n",
       "  8   9\n",
       "  1  10\n",
       "  9  18\n",
       " 10  19\n",
       " 18  27\n",
       " 19  28\n",
       "  ⋮    \n",
       " 55  64\n",
       " 63  72\n",
       " 64  73\n",
       " 73  74\n",
       " 74  75\n",
       " 75  76\n",
       " 76  77\n",
       " 77  78\n",
       " 78  79\n",
       " 79  80\n",
       " 72  81\n",
       " 80  81,81x1 BitArray{2}:\n",
       " false\n",
       " false\n",
       " false\n",
       " false\n",
       " false\n",
       " false\n",
       " false\n",
       " false\n",
       " false\n",
       " false\n",
       " false\n",
       " false\n",
       " false\n",
       "     ⋮\n",
       " false\n",
       " false\n",
       " false\n",
       " false\n",
       " false\n",
       " false\n",
       " false\n",
       " false\n",
       " false\n",
       " false\n",
       " false\n",
       " false,Bool[true,true,true,true,true,true,true,true,true,false  …  false,true,true,true,true,true,true,true,true,true],128x3 Array{Int8,2}:\n",
       " 0  2  0\n",
       " 0  0  0\n",
       " 0  0  0\n",
       " 0  0  0\n",
       " 0  0  0\n",
       " 0  0  0\n",
       " 0  0  0\n",
       " 0  0  0\n",
       " 0  2  0\n",
       " 0  0  0\n",
       " 0  0  0\n",
       " 0  0  0\n",
       " 0  0  0\n",
       " ⋮      \n",
       " 0  0  0\n",
       " 0  0  0\n",
       " 0  0  0\n",
       " 0  2  0\n",
       " 0  0  0\n",
       " 0  0  0\n",
       " 0  0  0\n",
       " 0  0  0\n",
       " 0  0  0\n",
       " 0  0  0\n",
       " 0  0  0\n",
       " 0  2  0,384x2 Array{Int64,2}:\n",
       " 11   1\n",
       " 12   2\n",
       " 13   3\n",
       " 14   4\n",
       " 15   5\n",
       " 16   6\n",
       " 17   7\n",
       " 18   8\n",
       " 20  10\n",
       " 21  11\n",
       " 22  12\n",
       " 23  13\n",
       " 24  14\n",
       "  ⋮    \n",
       " 60  59\n",
       " 61  60\n",
       " 62  61\n",
       " 63  62\n",
       " 65  64\n",
       " 66  65\n",
       " 67  66\n",
       " 68  67\n",
       " 69  68\n",
       " 70  69\n",
       " 71  70\n",
       " 72  71,[0.0078125,0.0078125,0.0078125,0.0078125,0.0078125,0.0078125,0.0078125,0.0078125,0.0078125,0.0078125  …  0.0078125,0.0078125,0.0078125,0.0078125,0.0078125,0.0078125,0.0078125,0.0078125,0.0078125,0.0078125],0x2 Array{Int64,2},32x2 Array{Int64,2}:\n",
       "  1  10\n",
       " 10  19\n",
       " 19  28\n",
       " 28  37\n",
       " 37  46\n",
       " 46  55\n",
       " 55  64\n",
       " 64  73\n",
       " 18   9\n",
       " 27  18\n",
       " 36  27\n",
       " 45  36\n",
       " 54  45\n",
       "  ⋮    \n",
       " 77  78\n",
       " 78  79\n",
       " 79  80\n",
       " 80  81\n",
       "  2   1\n",
       "  3   2\n",
       "  4   3\n",
       "  5   4\n",
       "  6   5\n",
       "  7   6\n",
       "  8   7\n",
       "  9   8,0x2 Array{Int64,2},81,128,1//8,1//2048,5,10240,1//32,1//256,true),[1.90447,2.12375,1.89365,1.94383,2.20734,1.8446,1.65089,1.41144,1.59667,1.71334  …  1.55829,1.40172,1.35421,1.4012,1.43531,1.5698,1.34983,1.42628,1.49806,1.57946],false,nothing,Dict{AbstractString,Float64},false,1x103x81 GrowableArrays.GrowableArray{Float64,GrowableArrays.GrowableArray{Float64,Array{Float64,1},2},3}:\n",
       "[:, :, 1] =\n",
       " 0.0  0.0482906  0.0960708  0.141346  …  1.43032  1.491  1.77512  1.63602\n",
       "\n",
       "[:, :, 2] =\n",
       " 0.0  0.0483824  0.0954623  0.141594  …  1.46674  1.45865  1.71853  1.79251\n",
       "\n",
       "[:, :, 3] =\n",
       " 0.0  0.0483995  0.0955537  0.141236  …  1.20101  1.48539  2.18947  1.90861\n",
       "\n",
       "...\n",
       "\n",
       "[:, :, 79] =\n",
       " 0.0  0.0480323  0.0948  0.14149  …  1.54557  1.51706  1.43163  1.35578\n",
       "\n",
       "[:, :, 80] =\n",
       " 0.0  0.0481257  0.0950151  0.141451  …  1.30492  1.49727  1.27734  1.52392\n",
       "\n",
       "[:, :, 81] =\n",
       " 0.0  0.0482029  0.0956803  0.141738  …  1.42262  1.57561  1.14242  1.08707,[0.0,0.0488281,0.0976563,0.146484,0.195313,0.244141,0.292969,0.341797,0.390625,0.439453  …  4.54102,4.58984,4.63867,4.6875,4.73633,4.78516,4.83398,4.88281,4.93164,4.98047],DifferentialEquations.HeatProblem(u₀,(anonymous function),f,(anonymous function),(anonymous function),(anonymous function),false,false,1,σ,true,:White,1.0),true)"
      ]
     },
     "execution_count": 4,
     "metadata": {},
     "output_type": "execute_result"
    }
   ],
   "source": [
    "sol = solve(fem_mesh::FEMmesh,prob::HeatProblem,alg=:Euler,save_timeseries=true)"
   ]
  },
  {
   "cell_type": "markdown",
   "metadata": {},
   "source": [
    "To build the animation, we simply call the `animate` function with the solution type. Since the `animate` function is plugging into Plots.jl, we can use keyword arguments for Plots.jl to set the color limits between 0 and 3, and turn off the color bar. In total, the command is:\n",
    "\n",
    "[Note: on some systems building an animation like this may take awhile]"
   ]
  },
  {
   "cell_type": "code",
   "execution_count": 5,
   "metadata": {
    "collapsed": false
   },
   "outputs": [
    {
     "name": "stdout",
     "output_type": "stream",
     "text": [
      "[Plots.jl] Initializing backend: pyplot\n"
     ]
    },
    {
     "name": "stderr",
     "output_type": "stream",
     "text": [
      "sys:1: MatplotlibDeprecationWarning: The set_axis_bgcolor function was deprecated in version 2.0. Use set_facecolor instead.\n",
      "INFO: Saved animation to /home/crackauc/.julia/v0.4/DifferentialEquations/examples/tmp.gif\n"
     ]
    },
    {
     "data": {
      "text/html": [
       "<img src=\"tmp.gif?0.6606764515028867>\" />"
      ],
      "text/plain": [
       "Plots.AnimatedGif(\"/home/crackauc/.julia/v0.4/DifferentialEquations/examples/tmp.gif\")"
      ]
     },
     "execution_count": 5,
     "metadata": {},
     "output_type": "execute_result"
    }
   ],
   "source": [
    "animate(sol::FEMSolution;zlims=(0,3),cbar=false,filename=\"sh_animation.gif\")"
   ]
  }
 ],
 "metadata": {
  "kernelspec": {
   "display_name": "Julia 0.4.5",
   "language": "julia",
   "name": "julia-0.4"
  },
  "language_info": {
   "file_extension": ".jl",
   "mimetype": "application/julia",
   "name": "julia",
   "version": "0.4.5"
  }
 },
 "nbformat": 4,
 "nbformat_minor": 0
}
