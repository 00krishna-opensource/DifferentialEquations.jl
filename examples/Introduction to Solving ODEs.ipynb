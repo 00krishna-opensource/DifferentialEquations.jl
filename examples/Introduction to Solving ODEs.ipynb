{
 "cells": [
  {
   "cell_type": "markdown",
   "metadata": {},
   "source": [
    "# Introduction to Solving ODEs\n",
    "\n",
    "In this example we're going to solve the linear ODE:\n",
    "\n",
    "$$ y' = \\alpha y $$\n",
    "\n",
    "First, we need to import the package DifferentialEquations.jl"
   ]
  },
  {
   "cell_type": "code",
   "execution_count": 54,
   "metadata": {
    "collapsed": false,
    "scrolled": false
   },
   "outputs": [],
   "source": [
    "using DifferentialEquations"
   ]
  },
  {
   "cell_type": "markdown",
   "metadata": {},
   "source": [
    "We write the ODE as\n",
    "\n",
    "$$ y' = f(y,t) $$\n",
    "\n",
    "Here, we will let $\\alpha = 0.5$. Let the initial condition be $u_0 = 1.5$ and the timespan be $[0,1]$. Thus we define the ODEProblem with the following code:"
   ]
  },
  {
   "cell_type": "code",
   "execution_count": 26,
   "metadata": {
    "collapsed": false
   },
   "outputs": [
    {
     "data": {
      "text/plain": [
       "2-element Array{Int64,1}:\n",
       " 0\n",
       " 1"
      ]
     },
     "execution_count": 26,
     "metadata": {},
     "output_type": "execute_result"
    }
   ],
   "source": [
    "f(y,t) = 0.5*y\n",
    "y₀ = 1.5\n",
    "prob = ODEProblem(f,y₀)\n",
    "tspan = [0,1]"
   ]
  },
  {
   "cell_type": "markdown",
   "metadata": {},
   "source": [
    "`ODEProblem(f,u₀)` returns an `ODEProblem` type which contains all of the information necessary for solving the ODE. To solve the problem, we use the following command: "
   ]
  },
  {
   "cell_type": "code",
   "execution_count": 27,
   "metadata": {
    "collapsed": false
   },
   "outputs": [
    {
     "data": {
      "text/plain": [
       "DifferentialEquations.ODESolution, 4 timesteps, final value 2.4730820262475275"
      ]
     },
     "execution_count": 27,
     "metadata": {},
     "output_type": "execute_result"
    }
   ],
   "source": [
    "sol = solve(prob,tspan)"
   ]
  },
  {
   "cell_type": "markdown",
   "metadata": {},
   "source": [
    "`sol` is an `ODESolution` type which contains all of the information about the numerical solution. There are some convience functions written for it to make things easier. For example, we can print the solution to understand more about it: "
   ]
  },
  {
   "cell_type": "code",
   "execution_count": 29,
   "metadata": {
    "collapsed": false
   },
   "outputs": [
    {
     "name": "stdout",
     "output_type": "stream",
     "text": [
      "DifferentialEquations.ODESolution with 4 timesteps. No analytical solution is known.\n",
      "u: 2.4730820262475275\n",
      "t: [0.0,0.15402750539344723,0.6540275053934472,1.0]\n",
      "timeseries: [1.5,1.6200853950609029,2.0802309140818203,2.4730820262475275]\n"
     ]
    }
   ],
   "source": [
    "print(sol)"
   ]
  },
  {
   "cell_type": "markdown",
   "metadata": {},
   "source": [
    "Plot recipes are provided via Plots.jl. To plot the solution, we simply use the command `plot`."
   ]
  },
  {
   "cell_type": "code",
   "execution_count": 30,
   "metadata": {
    "collapsed": false
   },
   "outputs": [
    {
     "data": {
      "text/html": [
       "<script src=\"C:\\Users\\Chris\\.julia\\v0.4\\Plots\\deps\\plotly-latest.min.js\"></script>    <div id=\"4f149792-dfd6-4070-8911-3f496c1a11d4\" style=\"width:600px;height:400px;\"></div>\n",
       "    <script>\n",
       "    PLOT = document.getElementById('4f149792-dfd6-4070-8911-3f496c1a11d4');\n",
       "    Plotly.plot(PLOT, [{\"yaxis\":\"y\",\"y\":[1.5,1.6200853950609029,2.0802309140818203,2.4730820262475275],\"showlegend\":true,\"name\":\"y1\",\"type\":\"scatter\",\"xaxis\":\"x\",\"line\":{\"width\":1,\"dash\":\"solid\",\"color\":\"rgba(0, 154, 250, 1.000)\",\"shape\":\"linear\"},\"x\":[0.0,0.15402750539344723,0.6540275053934472,1.0],\"mode\":\"lines\"}], {\"yaxis\":{\"linecolor\":\"rgba(0, 0, 0, 1.000)\",\"type\":\"-\",\"domain\":[0.057305336832895896,0.9901574803149605],\"titlefont\":{\"size\":15,\"color\":\"rgba(0, 0, 0, 1.000)\",\"family\":\"Helvetica\"},\"tickcolor\":\"rgba(0, 0, 0, 1.000)\",\"title\":\"\",\"showgrid\":true,\"zeroline\":false,\"anchor\":\"x\",\"tickfont\":{\"size\":11,\"color\":\"rgba(0, 0, 0, 1.000)\",\"family\":\"Helvetica\"}},\"annotations\":[],\"width\":600,\"plot_bgcolor\":\"rgba(255, 255, 255, 1.000)\",\"showlegend\":true,\"legend\":{\"bgcolor\":\"rgba(255, 255, 255, 1.000)\",\"font\":{\"size\":11,\"color\":\"rgba(0, 0, 0, 1.000)\",\"family\":\"Helvetica\"},\"bordercolor\":\"rgba(0, 0, 0, 1.000)\"},\"xaxis\":{\"linecolor\":\"rgba(0, 0, 0, 1.000)\",\"type\":\"-\",\"domain\":[0.05905511811023622,0.9934383202099738],\"titlefont\":{\"size\":15,\"color\":\"rgba(0, 0, 0, 1.000)\",\"family\":\"Helvetica\"},\"tickcolor\":\"rgba(0, 0, 0, 1.000)\",\"title\":\"\",\"showgrid\":true,\"zeroline\":false,\"anchor\":\"y\",\"tickfont\":{\"size\":11,\"color\":\"rgba(0, 0, 0, 1.000)\",\"family\":\"Helvetica\"}},\"paper_bgcolor\":\"rgba(255, 255, 255, 1.000)\",\"height\":400,\"margin\":{\"r\":0,\"l\":0,\"b\":0,\"t\":20}});\n",
       "    </script>\n"
      ]
     },
     "execution_count": 30,
     "metadata": {},
     "output_type": "execute_result"
    }
   ],
   "source": [
    "plot(sol)"
   ]
  },
  {
   "cell_type": "markdown",
   "metadata": {},
   "source": [
    "Note: all of the options available in Plots.jl can be used to modify the plot. For more information, see [the Plots.jl documentation](https://juliaplots.github.io/) or take a look at the Formatting the Plots notebook]."
   ]
  },
  {
   "cell_type": "code",
   "execution_count": 44,
   "metadata": {
    "collapsed": false
   },
   "outputs": [
    {
     "data": {
      "text/html": [
       "<script src=\"C:\\Users\\Chris\\.julia\\v0.4\\Plots\\deps\\plotly-latest.min.js\"></script>    <div id=\"1b174a1c-1f85-405f-8e41-3f59708d5279\" style=\"width:600px;height:400px;\"></div>\n",
       "    <script>\n",
       "    PLOT = document.getElementById('1b174a1c-1f85-405f-8e41-3f59708d5279');\n",
       "    Plotly.plot(PLOT, [{\"yaxis\":\"y\",\"y\":[1.5,1.6200853950609029,2.0802309140818203,2.4730820262475275],\"showlegend\":true,\"name\":\"y1\",\"type\":\"scatter\",\"xaxis\":\"x\",\"line\":{\"width\":3,\"dash\":\"solid\",\"color\":\"rgba(0, 154, 250, 1.000)\",\"shape\":\"linear\"},\"x\":[0.0,0.15402750539344723,0.6540275053934472,1.0],\"mode\":\"lines\"}], {\"yaxis\":{\"linecolor\":\"rgba(0, 0, 0, 1.000)\",\"type\":\"-\",\"domain\":[0.09549978127734039,0.9901574803149606],\"titlefont\":{\"size\":15,\"color\":\"rgba(0, 0, 0, 1.000)\",\"family\":\"Helvetica\"},\"tickcolor\":\"rgba(0, 0, 0, 1.000)\",\"title\":\"Bunnies (/inch)\",\"showgrid\":true,\"zeroline\":false,\"anchor\":\"x\",\"tickfont\":{\"size\":11,\"color\":\"rgba(0, 0, 0, 1.000)\",\"family\":\"Helvetica\"}},\"annotations\":[],\"width\":600,\"plot_bgcolor\":\"rgba(255, 255, 255, 1.000)\",\"showlegend\":true,\"legend\":{\"bgcolor\":\"rgba(255, 255, 255, 1.000)\",\"font\":{\"size\":11,\"color\":\"rgba(0, 0, 0, 1.000)\",\"family\":\"Helvetica\"},\"bordercolor\":\"rgba(0, 0, 0, 1.000)\"},\"xaxis\":{\"linecolor\":\"rgba(0, 0, 0, 1.000)\",\"type\":\"-\",\"domain\":[0.08451808107319918,0.9934383202099737],\"titlefont\":{\"size\":15,\"color\":\"rgba(0, 0, 0, 1.000)\",\"family\":\"Helvetica\"},\"tickcolor\":\"rgba(0, 0, 0, 1.000)\",\"title\":\"Time (seconds)\",\"showgrid\":true,\"zeroline\":false,\"anchor\":\"y\",\"tickfont\":{\"size\":11,\"color\":\"rgba(0, 0, 0, 1.000)\",\"family\":\"Helvetica\"}},\"paper_bgcolor\":\"rgba(255, 255, 255, 1.000)\",\"height\":400,\"margin\":{\"r\":0,\"l\":0,\"b\":0,\"t\":20}});\n",
       "    </script>\n"
      ]
     },
     "execution_count": 44,
     "metadata": {},
     "output_type": "execute_result"
    }
   ],
   "source": [
    "plot(sol,lw=3,yguide=\"Bunnies (/inch)\",xguide=\"Time (seconds)\")"
   ]
  },
  {
   "cell_type": "markdown",
   "metadata": {},
   "source": [
    "That's all it takes to solve ODEs in DifferentialEquations.jl!"
   ]
  },
  {
   "cell_type": "code",
   "execution_count": null,
   "metadata": {
    "collapsed": true
   },
   "outputs": [],
   "source": []
  },
  {
   "cell_type": "markdown",
   "metadata": {},
   "source": [
    "## Solver Options\n",
    "\n",
    "The solver is controlled via keyword arguments. For example, we can set the initial timestep with the flag `Δt`, and we can set change the algorithm with the keyword `alg`. Let's change the algorithm to Euler's method with $\\Delta t = \\frac{1}{2^4}$. To do this, we use the command:"
   ]
  },
  {
   "cell_type": "code",
   "execution_count": 45,
   "metadata": {
    "collapsed": false
   },
   "outputs": [
    {
     "data": {
      "text/html": [
       "<script src=\"C:\\Users\\Chris\\.julia\\v0.4\\Plots\\deps\\plotly-latest.min.js\"></script>    <div id=\"1752fb55-b0f2-445c-b3c2-be5d70ec6846\" style=\"width:600px;height:400px;\"></div>\n",
       "    <script>\n",
       "    PLOT = document.getElementById('1752fb55-b0f2-445c-b3c2-be5d70ec6846');\n",
       "    Plotly.plot(PLOT, [{\"yaxis\":\"y\",\"y\":[1.5,1.546875,1.59521484375,1.6450653076171875,1.6964735984802246,1.7494883984327316,1.8041599108837545,1.8605399080988718,1.9186817802269616,1.9786405858590541,2.0404731041671496,2.104237888672373,2.1699953226933846,2.2378076765275527,2.3077391664190388,2.3798560153696338,2.454226515849935],\"showlegend\":true,\"name\":\"y1\",\"type\":\"scatter\",\"xaxis\":\"x\",\"line\":{\"width\":1,\"dash\":\"solid\",\"color\":\"rgba(0, 154, 250, 1.000)\",\"shape\":\"linear\"},\"x\":[0.0,0.0625,0.125,0.1875,0.25,0.3125,0.375,0.4375,0.5,0.5625,0.625,0.6875,0.75,0.8125,0.875,0.9375,1.0],\"mode\":\"lines\"}], {\"yaxis\":{\"linecolor\":\"rgba(0, 0, 0, 1.000)\",\"type\":\"-\",\"domain\":[0.057305336832895896,0.9901574803149605],\"titlefont\":{\"size\":15,\"color\":\"rgba(0, 0, 0, 1.000)\",\"family\":\"Helvetica\"},\"tickcolor\":\"rgba(0, 0, 0, 1.000)\",\"title\":\"\",\"showgrid\":true,\"zeroline\":false,\"anchor\":\"x\",\"tickfont\":{\"size\":11,\"color\":\"rgba(0, 0, 0, 1.000)\",\"family\":\"Helvetica\"}},\"annotations\":[],\"width\":600,\"plot_bgcolor\":\"rgba(255, 255, 255, 1.000)\",\"showlegend\":true,\"legend\":{\"bgcolor\":\"rgba(255, 255, 255, 1.000)\",\"font\":{\"size\":11,\"color\":\"rgba(0, 0, 0, 1.000)\",\"family\":\"Helvetica\"},\"bordercolor\":\"rgba(0, 0, 0, 1.000)\"},\"xaxis\":{\"linecolor\":\"rgba(0, 0, 0, 1.000)\",\"type\":\"-\",\"domain\":[0.05905511811023622,0.9934383202099738],\"titlefont\":{\"size\":15,\"color\":\"rgba(0, 0, 0, 1.000)\",\"family\":\"Helvetica\"},\"tickcolor\":\"rgba(0, 0, 0, 1.000)\",\"title\":\"\",\"showgrid\":true,\"zeroline\":false,\"anchor\":\"y\",\"tickfont\":{\"size\":11,\"color\":\"rgba(0, 0, 0, 1.000)\",\"family\":\"Helvetica\"}},\"paper_bgcolor\":\"rgba(255, 255, 255, 1.000)\",\"height\":400,\"margin\":{\"r\":0,\"l\":0,\"b\":0,\"t\":20}});\n",
       "    </script>\n"
      ]
     },
     "execution_count": 45,
     "metadata": {},
     "output_type": "execute_result"
    }
   ],
   "source": [
    "sol = solve(prob,tspan,Δt=1/2^4,alg=:Euler)\n",
    "plot(sol)"
   ]
  },
  {
   "cell_type": "markdown",
   "metadata": {},
   "source": [
    "Notice that this time the solver took much smaller steps, making a smoother output in the graph. Other notebooks go into more detail on how to control the solver, and the options are all described in the documentation."
   ]
  },
  {
   "cell_type": "markdown",
   "metadata": {},
   "source": [
    "## The Solution Object\n",
    "\n",
    "Let's take a more detailed look at the solution object. We can get the information by looking at the documentation, or by calling for the docstring:"
   ]
  },
  {
   "cell_type": "code",
   "execution_count": 46,
   "metadata": {
    "collapsed": false
   },
   "outputs": [
    {
     "name": "stdout",
     "output_type": "stream",
     "text": [
      "search: ODESolution\n",
      "\n"
     ]
    },
    {
     "data": {
      "text/latex": [
       "ODESolution\n",
       "Holds the data for the solution to an ODE problem.\n",
       "\\subsubsection{Fields}\n",
       "\\begin{itemize}\n",
       "\\item \\texttt{u::Array{Float64}}: The solution (at the final timepoint)\n",
       "\\item \\texttt{trueknown::Bool}: Boolean flag for if the true solution is given.\n",
       "\\item \\texttt{u_analytic::AbstractArrayOrVoid}: The true solution at the final timepoint.\n",
       "\\item \\texttt{errors}: A dictionary of the error calculations.\n",
       "\\item \\texttt{timeseries}::AbstractArrayOrVoid\\texttt{: u over time. Only saved if `save_timeseries=true} is specified in the solver.\n",
       "\\item \\texttt{t::AbstractArrayOrVoid}: All the t's in the solution. Only saved if \\texttt{save_timeseries=true} is specified in the solver.\n",
       "\\item \\texttt{timeseries_analytic}: If \\texttt{save_timeseries=true}, saves the solution at each timestep.\n",
       "\\item \\texttt{prob::DEProblem}: Holds the problem object used to define the problem.\n",
       "\\item \\texttt{save_timeseries::Bool}: True if solver saved the extra timepoints.\n",
       "\\item \\texttt{appxTrue::Bool}: Boolean flag for if u\\_analytic was an approximation.\n",
       "\\end{itemize}\n"
      ],
      "text/markdown": [
       "ODESolution\n",
       "\n",
       "Holds the data for the solution to an ODE problem.\n",
       "\n",
       "### Fields\n",
       "\n",
       "  * `u::Array{Float64}`: The solution (at the final timepoint)\n",
       "  * `trueknown::Bool`: Boolean flag for if the true solution is given.\n",
       "  * `u_analytic::AbstractArrayOrVoid`: The true solution at the final timepoint.\n",
       "  * `errors`: A dictionary of the error calculations.\n",
       "  * `timeseries`::AbstractArrayOrVoid`: u over time. Only saved if `save_timeseries=true` is specified in the solver.\n",
       "  * `t::AbstractArrayOrVoid`: All the t's in the solution. Only saved if `save_timeseries=true` is specified in the solver.\n",
       "  * `timeseries_analytic`: If `save_timeseries=true`, saves the solution at each timestep.\n",
       "  * `prob::DEProblem`: Holds the problem object used to define the problem.\n",
       "  * `save_timeseries::Bool`: True if solver saved the extra timepoints.\n",
       "  * `appxTrue::Bool`: Boolean flag for if u_analytic was an approximation.\n"
      ],
      "text/plain": [
       "ODESolution\n",
       "\n",
       "Holds the data for the solution to an ODE problem.\n",
       "\n",
       "### Fields\n",
       "\n",
       "  * `u::Array{Float64}`: The solution (at the final timepoint)\n",
       "  * `trueknown::Bool`: Boolean flag for if the true solution is given.\n",
       "  * `u_analytic::AbstractArrayOrVoid`: The true solution at the final timepoint.\n",
       "  * `errors`: A dictionary of the error calculations.\n",
       "  * `timeseries`::AbstractArrayOrVoid`: u over time. Only saved if `save_timeseries=true` is specified in the solver.\n",
       "  * `t::AbstractArrayOrVoid`: All the t's in the solution. Only saved if `save_timeseries=true` is specified in the solver.\n",
       "  * `timeseries_analytic`: If `save_timeseries=true`, saves the solution at each timestep.\n",
       "  * `prob::DEProblem`: Holds the problem object used to define the problem.\n",
       "  * `save_timeseries::Bool`: True if solver saved the extra timepoints.\n",
       "  * `appxTrue::Bool`: Boolean flag for if u_analytic was an approximation.\n"
      ]
     },
     "execution_count": 46,
     "metadata": {},
     "output_type": "execute_result"
    }
   ],
   "source": [
    "?ODESolution"
   ]
  },
  {
   "cell_type": "markdown",
   "metadata": {},
   "source": [
    "This shows us all of the values that are contained in the solution object. For example, the field `timeseries` holds the time-series of the solution, and `ts` are the values of `t` for which the solution was calculated. We can print these out to look at the numerical solution:"
   ]
  },
  {
   "cell_type": "code",
   "execution_count": 47,
   "metadata": {
    "collapsed": false
   },
   "outputs": [
    {
     "data": {
      "text/plain": [
       "17-element Array{Float64,1}:\n",
       " 1.5    \n",
       " 1.54688\n",
       " 1.59521\n",
       " 1.64507\n",
       " 1.69647\n",
       " 1.74949\n",
       " 1.80416\n",
       " 1.86054\n",
       " 1.91868\n",
       " 1.97864\n",
       " 2.04047\n",
       " 2.10424\n",
       " 2.17   \n",
       " 2.23781\n",
       " 2.30774\n",
       " 2.37986\n",
       " 2.45423"
      ]
     },
     "execution_count": 47,
     "metadata": {},
     "output_type": "execute_result"
    }
   ],
   "source": [
    "sol.timeseries"
   ]
  },
  {
   "cell_type": "code",
   "execution_count": 48,
   "metadata": {
    "collapsed": false
   },
   "outputs": [
    {
     "data": {
      "text/plain": [
       "17-element Array{Float64,1}:\n",
       " 0.0   \n",
       " 0.0625\n",
       " 0.125 \n",
       " 0.1875\n",
       " 0.25  \n",
       " 0.3125\n",
       " 0.375 \n",
       " 0.4375\n",
       " 0.5   \n",
       " 0.5625\n",
       " 0.625 \n",
       " 0.6875\n",
       " 0.75  \n",
       " 0.8125\n",
       " 0.875 \n",
       " 0.9375\n",
       " 1.0   "
      ]
     },
     "execution_count": 48,
     "metadata": {},
     "output_type": "execute_result"
    }
   ],
   "source": [
    "sol.t"
   ]
  },
  {
   "cell_type": "markdown",
   "metadata": {},
   "source": [
    "The solution object contains some extra goodies to make the analysis easier. For example, we can access the 3rd value of the solution via:"
   ]
  },
  {
   "cell_type": "code",
   "execution_count": 49,
   "metadata": {
    "collapsed": false
   },
   "outputs": [
    {
     "data": {
      "text/plain": [
       "1.59521484375"
      ]
     },
     "execution_count": 49,
     "metadata": {},
     "output_type": "execute_result"
    }
   ],
   "source": [
    "sol[3]"
   ]
  },
  {
   "cell_type": "markdown",
   "metadata": {},
   "source": [
    "## Systems of ODEs\n",
    "\n",
    "DifferentialEquations.jl can solve very general systems of ODEs. For example, let's solve the ODE:\n",
    "\n",
    "$$  \\left[\\begin{array}{cc}\n",
    "y_{11}^{\\prime} & y_{12}^{\\prime}\\\\\n",
    "y_{21}^{\\prime} & y_{22}^{\\prime}\\\\\n",
    "y_{31}^{\\prime} & y_{32}^{\\prime}\\\\\n",
    "y_{41}^{\\prime} & y_{42}^{\\prime}\n",
    "\\end{array}\\right]=\\left[\\begin{array}{cccc}\n",
    "1 & 0 & 0 & -5\\\\\n",
    "4 & 2 & 4 & -3\\\\\n",
    "-4 & 0 & 0 & 1\\\\\n",
    "5 & -2 & 2 & 3\n",
    "\\end{array}\\right]\\left[\\begin{array}{cc}\n",
    "y_{11} & y_{12}\\\\\n",
    "y_{21} & y_{22}\\\\\n",
    "y_{31} & y_{32}\\\\\n",
    "y_{41} & y_{42}\n",
    "\\end{array}\\right] $$\n",
    "\n",
    "with random initial conditions. To do this, we can write the equation form\n",
    "\n",
    "$$ y^\\prime = f(y) $$\n",
    "\n",
    "where $y$ is a matrix. In Julia, we do this by:"
   ]
  },
  {
   "cell_type": "code",
   "execution_count": 52,
   "metadata": {
    "collapsed": false
   },
   "outputs": [
    {
     "data": {
      "text/plain": [
       "DifferentialEquations.ODEProblem(f,4x2 Array{Float64,2}:\n",
       " 0.652212  0.781999\n",
       " 0.863598  0.244215\n",
       " 0.494616  0.496975\n",
       " 0.719493  0.713266,(anonymous function),false,2,(4,2))"
      ]
     },
     "execution_count": 52,
     "metadata": {},
     "output_type": "execute_result"
    }
   ],
   "source": [
    "A = [1. 0 0 -5\n",
    "     4 -2 4 -3\n",
    "     -4 0 0 1\n",
    "     5 -2 2 3]\n",
    "y₀ = rand(4,2)\n",
    "f(y,t) = A*y\n",
    "prob = ODEProblem(f,y₀)"
   ]
  },
  {
   "cell_type": "markdown",
   "metadata": {},
   "source": [
    "Now we just call the solver:"
   ]
  },
  {
   "cell_type": "code",
   "execution_count": 53,
   "metadata": {
    "collapsed": false
   },
   "outputs": [
    {
     "data": {
      "text/html": [
       "<script src=\"C:\\Users\\Chris\\.julia\\v0.4\\Plots\\deps\\plotly-latest.min.js\"></script>    <div id=\"b1fcf802-27a6-499c-9240-09dc602cd51c\" style=\"width:600px;height:400px;\"></div>\n",
       "    <script>\n",
       "    PLOT = document.getElementById('b1fcf802-27a6-499c-9240-09dc602cd51c');\n",
       "    Plotly.plot(PLOT, [{\"yaxis\":\"y\",\"y\":[0.6522122585597412,0.37595606656341013,-0.6602062261066328,-2.3592972411426336,-4.004088519780347,-5.001676683359161,-4.812061613693505,-3.1724163966064394],\"showlegend\":true,\"name\":\"y1\",\"type\":\"scatter\",\"xaxis\":\"x\",\"line\":{\"width\":1,\"dash\":\"solid\",\"color\":\"rgba(0, 154, 250, 1.000)\",\"shape\":\"linear\"},\"x\":[0.0,0.07124045954800048,0.22683287926077028,0.4036517985282557,0.5686326458638161,0.7236471261895043,0.8693204693212477,1.0],\"mode\":\"lines\"},{\"yaxis\":\"y\",\"y\":[0.8635979817625667,0.8286636958187885,0.26949684723805,-0.6891520344989704,-1.1104231324203466,-0.29489447957327997,2.1405440516134893,5.980647362205028],\"showlegend\":true,\"name\":\"y2\",\"type\":\"scatter\",\"xaxis\":\"x\",\"line\":{\"width\":1,\"dash\":\"solid\",\"color\":\"rgba(227, 111, 71, 1.000)\",\"shape\":\"linear\"},\"x\":[0.0,0.07124045954800048,0.22683287926077028,0.4036517985282557,0.5686326458638161,0.7236471261895043,0.8693204693212477,1.0],\"mode\":\"lines\"},{\"yaxis\":\"y\",\"y\":[0.494616112514088,0.4077136247579685,0.6716384140693392,2.0054086736108507,4.341807256824191,7.236747551596431,9.980855389109191,11.703084355453887],\"showlegend\":true,\"name\":\"y3\",\"type\":\"scatter\",\"xaxis\":\"x\",\"line\":{\"width\":1,\"dash\":\"solid\",\"color\":\"rgba(62, 164, 78, 1.000)\",\"shape\":\"linear\"},\"x\":[0.0,0.07124045954800048,0.22683287926077028,0.4036517985282557,0.5686326458638161,0.7236471261895043,0.8693204693212477,1.0],\"mode\":\"lines\"},{\"yaxis\":\"y\",\"y\":[0.7194925578333753,1.0352852082093018,1.5375633797316595,1.60500966884619,0.9753335545914358,-0.35653296912539656,-2.276747935956539,-4.449577407279996],\"showlegend\":true,\"name\":\"y4\",\"type\":\"scatter\",\"xaxis\":\"x\",\"line\":{\"width\":1,\"dash\":\"solid\",\"color\":\"rgba(195, 113, 210, 1.000)\",\"shape\":\"linear\"},\"x\":[0.0,0.07124045954800048,0.22683287926077028,0.4036517985282557,0.5686326458638161,0.7236471261895043,0.8693204693212477,1.0],\"mode\":\"lines\"},{\"yaxis\":\"y\",\"y\":[0.7819993857896981,0.49281795247077026,-0.7577883545235575,-3.0202496668410364,-5.424654971791215,-7.1729280248117675,-7.485881535475541,-5.886579886523963],\"showlegend\":true,\"name\":\"y5\",\"type\":\"scatter\",\"xaxis\":\"x\",\"line\":{\"width\":1,\"dash\":\"solid\",\"color\":\"rgba(172, 142, 24, 1.000)\",\"shape\":\"linear\"},\"x\":[0.0,0.07124045954800048,0.22683287926077028,0.4036517985282557,0.5686326458638161,0.7236471261895043,0.8693204693212477,1.0],\"mode\":\"lines\"},{\"yaxis\":\"y\",\"y\":[0.244215290342221,0.30870528156622323,-0.23069217329575098,-1.4318589036094516,-2.130279206586612,-1.3260617904512633,1.6207230252749092,6.578074327480894],\"showlegend\":true,\"name\":\"y6\",\"type\":\"scatter\",\"xaxis\":\"x\",\"line\":{\"width\":1,\"dash\":\"solid\",\"color\":\"rgba(0, 170, 174, 1.000)\",\"shape\":\"linear\"},\"x\":[0.0,0.07124045954800048,0.22683287926077028,0.4036517985282557,0.5686326458638161,0.7236471261895043,0.8693204693212477,1.0],\"mode\":\"lines\"},{\"yaxis\":\"y\",\"y\":[0.496975424436062,0.3781498432984326,0.6661406594751504,2.34934396491287,5.48217243433292,9.589061286671857,13.790196772601009,16.879608648152075],\"showlegend\":true,\"name\":\"y7\",\"type\":\"scatter\",\"xaxis\":\"x\",\"line\":{\"width\":1,\"dash\":\"solid\",\"color\":\"rgba(237, 94, 147, 1.000)\",\"shape\":\"linear\"},\"x\":[0.0,0.07124045954800048,0.22683287926077028,0.4036517985282557,0.5686326458638161,0.7236471261895043,0.8693204693212477,1.0],\"mode\":\"lines\"},{\"yaxis\":\"y\",\"y\":[0.7132658638543312,1.1660689501435824,1.9664670781906364,2.2836157110463637,1.6843030260020382,0.09688105737249475,-2.3866514157867513,-5.356706915209134],\"showlegend\":true,\"name\":\"y8\",\"type\":\"scatter\",\"xaxis\":\"x\",\"line\":{\"width\":1,\"dash\":\"solid\",\"color\":\"rgba(198, 130, 37, 1.000)\",\"shape\":\"linear\"},\"x\":[0.0,0.07124045954800048,0.22683287926077028,0.4036517985282557,0.5686326458638161,0.7236471261895043,0.8693204693212477,1.0],\"mode\":\"lines\"}], {\"yaxis\":{\"linecolor\":\"rgba(0, 0, 0, 1.000)\",\"type\":\"-\",\"domain\":[0.057305336832895896,0.9901574803149605],\"titlefont\":{\"size\":15,\"color\":\"rgba(0, 0, 0, 1.000)\",\"family\":\"Helvetica\"},\"tickcolor\":\"rgba(0, 0, 0, 1.000)\",\"title\":\"\",\"showgrid\":true,\"zeroline\":false,\"anchor\":\"x\",\"tickfont\":{\"size\":11,\"color\":\"rgba(0, 0, 0, 1.000)\",\"family\":\"Helvetica\"}},\"annotations\":[],\"width\":600,\"plot_bgcolor\":\"rgba(255, 255, 255, 1.000)\",\"showlegend\":true,\"legend\":{\"bgcolor\":\"rgba(255, 255, 255, 1.000)\",\"font\":{\"size\":11,\"color\":\"rgba(0, 0, 0, 1.000)\",\"family\":\"Helvetica\"},\"bordercolor\":\"rgba(0, 0, 0, 1.000)\"},\"xaxis\":{\"linecolor\":\"rgba(0, 0, 0, 1.000)\",\"type\":\"-\",\"domain\":[0.05905511811023622,0.9934383202099738],\"titlefont\":{\"size\":15,\"color\":\"rgba(0, 0, 0, 1.000)\",\"family\":\"Helvetica\"},\"tickcolor\":\"rgba(0, 0, 0, 1.000)\",\"title\":\"\",\"showgrid\":true,\"zeroline\":false,\"anchor\":\"y\",\"tickfont\":{\"size\":11,\"color\":\"rgba(0, 0, 0, 1.000)\",\"family\":\"Helvetica\"}},\"paper_bgcolor\":\"rgba(255, 255, 255, 1.000)\",\"height\":400,\"margin\":{\"r\":0,\"l\":0,\"b\":0,\"t\":20}});\n",
       "    </script>\n"
      ]
     },
     "execution_count": 53,
     "metadata": {},
     "output_type": "execute_result"
    }
   ],
   "source": [
    "sol = solve(prob)\n",
    "plot(sol)"
   ]
  },
  {
   "cell_type": "markdown",
   "metadata": {},
   "source": [
    " ## More Information\n",
    " \n",
    "That concludes this first introduction to DifferentialEquations.jl. For more examples, please check out the other IJulia notebooks contained in the /examples folder. If you have IJulia installed, these can be accessed via:"
   ]
  },
  {
   "cell_type": "code",
   "execution_count": null,
   "metadata": {
    "collapsed": true
   },
   "outputs": [],
   "source": [
    "using IJulia\n",
    "cd(Pkg.dir(\"DifferentialEquations\")*\"/examples\")\n",
    "notebook()"
   ]
  },
  {
   "cell_type": "markdown",
   "metadata": {},
   "source": [
    "Check out the documentation for some tutorials and in-depth information about the solvers."
   ]
  }
 ],
 "metadata": {
  "kernelspec": {
   "display_name": "Julia 0.4.6",
   "language": "julia",
   "name": "julia-0.4"
  },
  "language_info": {
   "file_extension": ".jl",
   "mimetype": "application/julia",
   "name": "julia",
   "version": "0.4.6"
  }
 },
 "nbformat": 4,
 "nbformat_minor": 0
}
